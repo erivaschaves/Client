{
  "nbformat": 4,
  "nbformat_minor": 0,
  "metadata": {
    "colab": {
      "name": "Trabalho Prático 2.ipynb",
      "provenance": [],
      "collapsed_sections": [],
      "toc_visible": true,
      "mount_file_id": "1z1AuqkAvUSxOT-NUsLlEHtgripUyb_Zw",
      "authorship_tag": "ABX9TyOIk5tf2FDJAUYSAPykWYt5",
      "include_colab_link": true
    },
    "kernelspec": {
      "display_name": "Python 3",
      "name": "python3"
    }
  },
  "cells": [
    {
      "cell_type": "markdown",
      "metadata": {
        "id": "view-in-github",
        "colab_type": "text"
      },
      "source": [
        "<a href=\"https://colab.research.google.com/github/erivaschaves/Client/blob/master/Trabalho_Pr%C3%A1tico_2.ipynb\" target=\"_parent\"><img src=\"https://colab.research.google.com/assets/colab-badge.svg\" alt=\"Open In Colab\"/></a>"
      ]
    },
    {
      "cell_type": "code",
      "metadata": {
        "id": "3CWGMMS0dIX2"
      },
      "source": [
        "#imports necessários\n",
        "import pandas as pd \n",
        "from sklearn import preprocessing\n",
        "from sklearn import metrics\n",
        "from scipy.spatial import distance_matrix\n",
        "import seaborn as sns\n",
        "from sklearn.cluster import KMeans\n",
        "from sklearn.cluster import DBSCAN\n",
        "import scipy.cluster.hierarchy as shc\n",
        "import matplotlib.pyplot as plt\n",
        "from sklearn.cluster import AgglomerativeClustering\n",
        "import plotly.graph_objects as go"
      ],
      "execution_count": 1,
      "outputs": []
    },
    {
      "cell_type": "markdown",
      "metadata": {
        "id": "MrCrT3UrAf-V"
      },
      "source": [
        "Carregando a base de dados criminais por Estado"
      ]
    },
    {
      "cell_type": "code",
      "metadata": {
        "colab": {
          "base_uri": "https://localhost:8080/",
          "height": 206
        },
        "id": "2M6kh0DWdXrK",
        "outputId": "12af6e33-7474-477f-9ba6-7e58ae876d15"
      },
      "source": [
        "dataset_br = pd.read_excel(\"/content/indicadoressegurancapublicaufjul20.xlsx\")\n",
        "dataset_br.head()"
      ],
      "execution_count": 2,
      "outputs": [
        {
          "output_type": "execute_result",
          "data": {
            "text/html": [
              "<div>\n",
              "<style scoped>\n",
              "    .dataframe tbody tr th:only-of-type {\n",
              "        vertical-align: middle;\n",
              "    }\n",
              "\n",
              "    .dataframe tbody tr th {\n",
              "        vertical-align: top;\n",
              "    }\n",
              "\n",
              "    .dataframe thead th {\n",
              "        text-align: right;\n",
              "    }\n",
              "</style>\n",
              "<table border=\"1\" class=\"dataframe\">\n",
              "  <thead>\n",
              "    <tr style=\"text-align: right;\">\n",
              "      <th></th>\n",
              "      <th>UF</th>\n",
              "      <th>Tipo Crime</th>\n",
              "      <th>Ano</th>\n",
              "      <th>Mês</th>\n",
              "      <th>Ocorrências</th>\n",
              "    </tr>\n",
              "  </thead>\n",
              "  <tbody>\n",
              "    <tr>\n",
              "      <th>0</th>\n",
              "      <td>Acre</td>\n",
              "      <td>Estupro</td>\n",
              "      <td>2015</td>\n",
              "      <td>janeiro</td>\n",
              "      <td>6</td>\n",
              "    </tr>\n",
              "    <tr>\n",
              "      <th>1</th>\n",
              "      <td>Acre</td>\n",
              "      <td>Furto de veículo</td>\n",
              "      <td>2015</td>\n",
              "      <td>janeiro</td>\n",
              "      <td>0</td>\n",
              "    </tr>\n",
              "    <tr>\n",
              "      <th>2</th>\n",
              "      <td>Acre</td>\n",
              "      <td>Homicídio doloso</td>\n",
              "      <td>2015</td>\n",
              "      <td>janeiro</td>\n",
              "      <td>13</td>\n",
              "    </tr>\n",
              "    <tr>\n",
              "      <th>3</th>\n",
              "      <td>Acre</td>\n",
              "      <td>Lesão corporal seguida de morte</td>\n",
              "      <td>2015</td>\n",
              "      <td>janeiro</td>\n",
              "      <td>0</td>\n",
              "    </tr>\n",
              "    <tr>\n",
              "      <th>4</th>\n",
              "      <td>Acre</td>\n",
              "      <td>Roubo a instituição financeira</td>\n",
              "      <td>2015</td>\n",
              "      <td>janeiro</td>\n",
              "      <td>0</td>\n",
              "    </tr>\n",
              "  </tbody>\n",
              "</table>\n",
              "</div>"
            ],
            "text/plain": [
              "     UF                       Tipo Crime   Ano      Mês  Ocorrências\n",
              "0  Acre                          Estupro  2015  janeiro            6\n",
              "1  Acre                 Furto de veículo  2015  janeiro            0\n",
              "2  Acre                 Homicídio doloso  2015  janeiro           13\n",
              "3  Acre  Lesão corporal seguida de morte  2015  janeiro            0\n",
              "4  Acre   Roubo a instituição financeira  2015  janeiro            0"
            ]
          },
          "metadata": {
            "tags": []
          },
          "execution_count": 2
        }
      ]
    },
    {
      "cell_type": "code",
      "metadata": {
        "colab": {
          "base_uri": "https://localhost:8080/"
        },
        "id": "yBvbrI1CoaAN",
        "outputId": "365a7b5a-1946-4934-c765-093db6b41f98"
      },
      "source": [
        "#Verificando os tipos de dados de cada atributo para pre processamento\r\n",
        "dataset_br.dtypes "
      ],
      "execution_count": 3,
      "outputs": [
        {
          "output_type": "execute_result",
          "data": {
            "text/plain": [
              "UF             object\n",
              "Tipo Crime     object\n",
              "Ano             int64\n",
              "Mês            object\n",
              "Ocorrências     int64\n",
              "dtype: object"
            ]
          },
          "metadata": {
            "tags": []
          },
          "execution_count": 3
        }
      ]
    },
    {
      "cell_type": "markdown",
      "metadata": {
        "id": "XzCpmz63BbLw"
      },
      "source": [
        "Fazendo uma pequena contagem dos tipos e numeros de crimes"
      ]
    },
    {
      "cell_type": "code",
      "metadata": {
        "colab": {
          "base_uri": "https://localhost:8080/"
        },
        "id": "lwt3dSnY2BKF",
        "outputId": "a481f95d-0997-4a1f-9869-e2c903c6a479"
      },
      "source": [
        "dataset_br['Tipo Crime'].value_counts()"
      ],
      "execution_count": 5,
      "outputs": [
        {
          "output_type": "execute_result",
          "data": {
            "text/plain": [
              "Estupro                                1806\n",
              "Roubo seguido de morte (latrocínio)    1806\n",
              "Roubo de veículo                       1805\n",
              "Homicídio doloso                       1805\n",
              "Tentativa de homicídio                 1804\n",
              "Furto de veículo                       1802\n",
              "Lesão corporal seguida de morte        1784\n",
              "Roubo a instituição financeira         1763\n",
              "Roubo de carga                         1747\n",
              "Name: Tipo Crime, dtype: int64"
            ]
          },
          "metadata": {
            "tags": []
          },
          "execution_count": 5
        }
      ]
    },
    {
      "cell_type": "markdown",
      "metadata": {
        "id": "COpOOGxYBqA1"
      },
      "source": [
        "Fazendo uma pequena contagem dos crimes por ano"
      ]
    },
    {
      "cell_type": "code",
      "metadata": {
        "colab": {
          "base_uri": "https://localhost:8080/"
        },
        "id": "Pb-ZAn_e8pzv",
        "outputId": "d7698ac6-084d-425f-cd35-095a81dad424"
      },
      "source": [
        "dataset_br['Ano'].value_counts()"
      ],
      "execution_count": 6,
      "outputs": [
        {
          "output_type": "execute_result",
          "data": {
            "text/plain": [
              "2018    2910\n",
              "2017    2893\n",
              "2019    2889\n",
              "2016    2884\n",
              "2015    2879\n",
              "2020    1667\n",
              "Name: Ano, dtype: int64"
            ]
          },
          "metadata": {
            "tags": []
          },
          "execution_count": 6
        }
      ]
    },
    {
      "cell_type": "markdown",
      "metadata": {
        "id": "K5UUQK1mB2xK"
      },
      "source": [
        "Fazendo uma contagem da quantidade de crimes por estado"
      ]
    },
    {
      "cell_type": "code",
      "metadata": {
        "colab": {
          "base_uri": "https://localhost:8080/"
        },
        "id": "nlqRHdAo_H31",
        "outputId": "23736817-3795-46c3-bec4-2d3ff0c0f385"
      },
      "source": [
        "dataset_br['UF'].value_counts()"
      ],
      "execution_count": 7,
      "outputs": [
        {
          "output_type": "execute_result",
          "data": {
            "text/plain": [
              "Mato Grosso do Sul     603\n",
              "Mato Grosso            603\n",
              "Pernambuco             603\n",
              "Distrito Federal       603\n",
              "Rio de Janeiro         603\n",
              "Pará                   603\n",
              "Ceará                  603\n",
              "Roraima                603\n",
              "Amazonas               603\n",
              "Espírito Santo         603\n",
              "Maranhão               603\n",
              "Piauí                  603\n",
              "Bahia                  603\n",
              "Santa Catarina         603\n",
              "Rio Grande do Sul      602\n",
              "Minas Gerais           602\n",
              "Goiás                  602\n",
              "Sergipe                602\n",
              "Paraíba                601\n",
              "Tocantins              599\n",
              "Acre                   598\n",
              "Rondônia               598\n",
              "Alagoas                593\n",
              "Rio Grande do Norte    586\n",
              "São Paulo              583\n",
              "Paraná                 567\n",
              "Amapá                  547\n",
              "Name: UF, dtype: int64"
            ]
          },
          "metadata": {
            "tags": []
          },
          "execution_count": 7
        }
      ]
    },
    {
      "cell_type": "markdown",
      "metadata": {
        "id": "4Qw9ta2HB9is"
      },
      "source": [
        "Pré processamento da base para preparar para os algoritmos de clusterização."
      ]
    },
    {
      "cell_type": "code",
      "metadata": {
        "colab": {
          "base_uri": "https://localhost:8080/",
          "height": 455
        },
        "id": "2xN1hja6efYR",
        "outputId": "51fe3781-0957-4d4e-812a-f142837baf2c"
      },
      "source": [
        "#Agrupando os tipos de crime deixando como indices o UF e o Ano\n",
        "dataset_br_group = dataset_br.groupby([\"UF\",\"Ano\",\"Tipo Crime\"]).sum()\n",
        "dataset_br_group"
      ],
      "execution_count": 11,
      "outputs": [
        {
          "output_type": "execute_result",
          "data": {
            "text/html": [
              "<div>\n",
              "<style scoped>\n",
              "    .dataframe tbody tr th:only-of-type {\n",
              "        vertical-align: middle;\n",
              "    }\n",
              "\n",
              "    .dataframe tbody tr th {\n",
              "        vertical-align: top;\n",
              "    }\n",
              "\n",
              "    .dataframe thead th {\n",
              "        text-align: right;\n",
              "    }\n",
              "</style>\n",
              "<table border=\"1\" class=\"dataframe\">\n",
              "  <thead>\n",
              "    <tr style=\"text-align: right;\">\n",
              "      <th></th>\n",
              "      <th></th>\n",
              "      <th></th>\n",
              "      <th>Ocorrências</th>\n",
              "    </tr>\n",
              "    <tr>\n",
              "      <th>UF</th>\n",
              "      <th>Ano</th>\n",
              "      <th>Tipo Crime</th>\n",
              "      <th></th>\n",
              "    </tr>\n",
              "  </thead>\n",
              "  <tbody>\n",
              "    <tr>\n",
              "      <th rowspan=\"5\" valign=\"top\">Acre</th>\n",
              "      <th rowspan=\"5\" valign=\"top\">2015</th>\n",
              "      <th>Estupro</th>\n",
              "      <td>42</td>\n",
              "    </tr>\n",
              "    <tr>\n",
              "      <th>Furto de veículo</th>\n",
              "      <td>0</td>\n",
              "    </tr>\n",
              "    <tr>\n",
              "      <th>Homicídio doloso</th>\n",
              "      <td>189</td>\n",
              "    </tr>\n",
              "    <tr>\n",
              "      <th>Lesão corporal seguida de morte</th>\n",
              "      <td>3</td>\n",
              "    </tr>\n",
              "    <tr>\n",
              "      <th>Roubo a instituição financeira</th>\n",
              "      <td>0</td>\n",
              "    </tr>\n",
              "    <tr>\n",
              "      <th>...</th>\n",
              "      <th>...</th>\n",
              "      <th>...</th>\n",
              "      <td>...</td>\n",
              "    </tr>\n",
              "    <tr>\n",
              "      <th rowspan=\"5\" valign=\"top\">Tocantins</th>\n",
              "      <th rowspan=\"5\" valign=\"top\">2020</th>\n",
              "      <th>Roubo a instituição financeira</th>\n",
              "      <td>0</td>\n",
              "    </tr>\n",
              "    <tr>\n",
              "      <th>Roubo de carga</th>\n",
              "      <td>2</td>\n",
              "    </tr>\n",
              "    <tr>\n",
              "      <th>Roubo de veículo</th>\n",
              "      <td>240</td>\n",
              "    </tr>\n",
              "    <tr>\n",
              "      <th>Roubo seguido de morte (latrocínio)</th>\n",
              "      <td>7</td>\n",
              "    </tr>\n",
              "    <tr>\n",
              "      <th>Tentativa de homicídio</th>\n",
              "      <td>243</td>\n",
              "    </tr>\n",
              "  </tbody>\n",
              "</table>\n",
              "<p>1452 rows × 1 columns</p>\n",
              "</div>"
            ],
            "text/plain": [
              "                                                    Ocorrências\n",
              "UF        Ano  Tipo Crime                                      \n",
              "Acre      2015 Estupro                                       42\n",
              "               Furto de veículo                               0\n",
              "               Homicídio doloso                             189\n",
              "               Lesão corporal seguida de morte                3\n",
              "               Roubo a instituição financeira                 0\n",
              "...                                                         ...\n",
              "Tocantins 2020 Roubo a instituição financeira                 0\n",
              "               Roubo de carga                                 2\n",
              "               Roubo de veículo                             240\n",
              "               Roubo seguido de morte (latrocínio)            7\n",
              "               Tentativa de homicídio                       243\n",
              "\n",
              "[1452 rows x 1 columns]"
            ]
          },
          "metadata": {
            "tags": []
          },
          "execution_count": 11
        }
      ]
    },
    {
      "cell_type": "code",
      "metadata": {
        "colab": {
          "base_uri": "https://localhost:8080/",
          "height": 476
        },
        "id": "gP3sDdUUfp69",
        "outputId": "43556af1-aa88-4c65-9bb9-f5114676d2e5"
      },
      "source": [
        "dataset_br_group.reset_index(inplace=True)\n",
        "dataset_br_group.set_index(['UF','Ano'], inplace=True)\n",
        "dataset_br_group = dataset_br_group.pivot(columns='Tipo Crime')\n",
        "dataset_br_group.columns = dataset_br_group.columns.to_flat_index()\n",
        "dataset_br_group.columns = [column if type(column) == str else column[1] for column in dataset_br_group.columns]\n",
        "dataset_br_group.reset_index(inplace=True)\n",
        "dataset_br_group"
      ],
      "execution_count": 12,
      "outputs": [
        {
          "output_type": "execute_result",
          "data": {
            "text/html": [
              "<div>\n",
              "<style scoped>\n",
              "    .dataframe tbody tr th:only-of-type {\n",
              "        vertical-align: middle;\n",
              "    }\n",
              "\n",
              "    .dataframe tbody tr th {\n",
              "        vertical-align: top;\n",
              "    }\n",
              "\n",
              "    .dataframe thead th {\n",
              "        text-align: right;\n",
              "    }\n",
              "</style>\n",
              "<table border=\"1\" class=\"dataframe\">\n",
              "  <thead>\n",
              "    <tr style=\"text-align: right;\">\n",
              "      <th></th>\n",
              "      <th>UF</th>\n",
              "      <th>Ano</th>\n",
              "      <th>Estupro</th>\n",
              "      <th>Furto de veículo</th>\n",
              "      <th>Homicídio doloso</th>\n",
              "      <th>Lesão corporal seguida de morte</th>\n",
              "      <th>Roubo a instituição financeira</th>\n",
              "      <th>Roubo de carga</th>\n",
              "      <th>Roubo de veículo</th>\n",
              "      <th>Roubo seguido de morte (latrocínio)</th>\n",
              "      <th>Tentativa de homicídio</th>\n",
              "    </tr>\n",
              "  </thead>\n",
              "  <tbody>\n",
              "    <tr>\n",
              "      <th>0</th>\n",
              "      <td>Acre</td>\n",
              "      <td>2015</td>\n",
              "      <td>42.0</td>\n",
              "      <td>0.0</td>\n",
              "      <td>189.0</td>\n",
              "      <td>3.0</td>\n",
              "      <td>0.0</td>\n",
              "      <td>0.0</td>\n",
              "      <td>0.0</td>\n",
              "      <td>10.0</td>\n",
              "      <td>16.0</td>\n",
              "    </tr>\n",
              "    <tr>\n",
              "      <th>1</th>\n",
              "      <td>Acre</td>\n",
              "      <td>2016</td>\n",
              "      <td>36.0</td>\n",
              "      <td>0.0</td>\n",
              "      <td>425.0</td>\n",
              "      <td>1.0</td>\n",
              "      <td>0.0</td>\n",
              "      <td>0.0</td>\n",
              "      <td>0.0</td>\n",
              "      <td>15.0</td>\n",
              "      <td>10.0</td>\n",
              "    </tr>\n",
              "    <tr>\n",
              "      <th>2</th>\n",
              "      <td>Acre</td>\n",
              "      <td>2017</td>\n",
              "      <td>108.0</td>\n",
              "      <td>539.0</td>\n",
              "      <td>221.0</td>\n",
              "      <td>0.0</td>\n",
              "      <td>5.0</td>\n",
              "      <td>3.0</td>\n",
              "      <td>849.0</td>\n",
              "      <td>10.0</td>\n",
              "      <td>61.0</td>\n",
              "    </tr>\n",
              "    <tr>\n",
              "      <th>3</th>\n",
              "      <td>Acre</td>\n",
              "      <td>2018</td>\n",
              "      <td>260.0</td>\n",
              "      <td>704.0</td>\n",
              "      <td>396.0</td>\n",
              "      <td>0.0</td>\n",
              "      <td>3.0</td>\n",
              "      <td>1.0</td>\n",
              "      <td>1080.0</td>\n",
              "      <td>20.0</td>\n",
              "      <td>86.0</td>\n",
              "    </tr>\n",
              "    <tr>\n",
              "      <th>4</th>\n",
              "      <td>Acre</td>\n",
              "      <td>2019</td>\n",
              "      <td>330.0</td>\n",
              "      <td>572.0</td>\n",
              "      <td>292.0</td>\n",
              "      <td>2.0</td>\n",
              "      <td>4.0</td>\n",
              "      <td>4.0</td>\n",
              "      <td>1246.0</td>\n",
              "      <td>14.0</td>\n",
              "      <td>134.0</td>\n",
              "    </tr>\n",
              "    <tr>\n",
              "      <th>...</th>\n",
              "      <td>...</td>\n",
              "      <td>...</td>\n",
              "      <td>...</td>\n",
              "      <td>...</td>\n",
              "      <td>...</td>\n",
              "      <td>...</td>\n",
              "      <td>...</td>\n",
              "      <td>...</td>\n",
              "      <td>...</td>\n",
              "      <td>...</td>\n",
              "      <td>...</td>\n",
              "    </tr>\n",
              "    <tr>\n",
              "      <th>157</th>\n",
              "      <td>Tocantins</td>\n",
              "      <td>2016</td>\n",
              "      <td>450.0</td>\n",
              "      <td>1499.0</td>\n",
              "      <td>417.0</td>\n",
              "      <td>5.0</td>\n",
              "      <td>27.0</td>\n",
              "      <td>23.0</td>\n",
              "      <td>930.0</td>\n",
              "      <td>14.0</td>\n",
              "      <td>341.0</td>\n",
              "    </tr>\n",
              "    <tr>\n",
              "      <th>158</th>\n",
              "      <td>Tocantins</td>\n",
              "      <td>2017</td>\n",
              "      <td>564.0</td>\n",
              "      <td>1539.0</td>\n",
              "      <td>337.0</td>\n",
              "      <td>7.0</td>\n",
              "      <td>23.0</td>\n",
              "      <td>8.0</td>\n",
              "      <td>815.0</td>\n",
              "      <td>11.0</td>\n",
              "      <td>335.0</td>\n",
              "    </tr>\n",
              "    <tr>\n",
              "      <th>159</th>\n",
              "      <td>Tocantins</td>\n",
              "      <td>2018</td>\n",
              "      <td>727.0</td>\n",
              "      <td>2092.0</td>\n",
              "      <td>363.0</td>\n",
              "      <td>7.0</td>\n",
              "      <td>7.0</td>\n",
              "      <td>0.0</td>\n",
              "      <td>1091.0</td>\n",
              "      <td>16.0</td>\n",
              "      <td>417.0</td>\n",
              "    </tr>\n",
              "    <tr>\n",
              "      <th>160</th>\n",
              "      <td>Tocantins</td>\n",
              "      <td>2019</td>\n",
              "      <td>718.0</td>\n",
              "      <td>1569.0</td>\n",
              "      <td>301.0</td>\n",
              "      <td>7.0</td>\n",
              "      <td>3.0</td>\n",
              "      <td>1.0</td>\n",
              "      <td>701.0</td>\n",
              "      <td>18.0</td>\n",
              "      <td>518.0</td>\n",
              "    </tr>\n",
              "    <tr>\n",
              "      <th>161</th>\n",
              "      <td>Tocantins</td>\n",
              "      <td>2020</td>\n",
              "      <td>360.0</td>\n",
              "      <td>707.0</td>\n",
              "      <td>213.0</td>\n",
              "      <td>4.0</td>\n",
              "      <td>0.0</td>\n",
              "      <td>2.0</td>\n",
              "      <td>240.0</td>\n",
              "      <td>7.0</td>\n",
              "      <td>243.0</td>\n",
              "    </tr>\n",
              "  </tbody>\n",
              "</table>\n",
              "<p>162 rows × 11 columns</p>\n",
              "</div>"
            ],
            "text/plain": [
              "            UF  ...  Tentativa de homicídio\n",
              "0         Acre  ...                    16.0\n",
              "1         Acre  ...                    10.0\n",
              "2         Acre  ...                    61.0\n",
              "3         Acre  ...                    86.0\n",
              "4         Acre  ...                   134.0\n",
              "..         ...  ...                     ...\n",
              "157  Tocantins  ...                   341.0\n",
              "158  Tocantins  ...                   335.0\n",
              "159  Tocantins  ...                   417.0\n",
              "160  Tocantins  ...                   518.0\n",
              "161  Tocantins  ...                   243.0\n",
              "\n",
              "[162 rows x 11 columns]"
            ]
          },
          "metadata": {
            "tags": []
          },
          "execution_count": 12
        }
      ]
    },
    {
      "cell_type": "markdown",
      "metadata": {
        "id": "PlOPcjnkDRe1"
      },
      "source": [
        "Criando e Analisando a matriz de correlação, verificamos uma forte correlação entre o roubo de veiculos e roubo de carga."
      ]
    },
    {
      "cell_type": "code",
      "metadata": {
        "colab": {
          "base_uri": "https://localhost:8080/",
          "height": 457
        },
        "id": "1IcXDL4viAHZ",
        "outputId": "b3cf765f-e356-4bbf-cfd0-7409bb0438e4"
      },
      "source": [
        "dataset_br_corr = dataset_br_group[['Estupro','Furto de veículo','Homicídio doloso','Lesão corporal seguida de morte','Roubo a instituição financeira','Roubo de carga','Roubo de veículo','Roubo seguido de morte (latrocínio)','Tentativa de homicídio']].corr()\n",
        "sns.heatmap(dataset_br_corr, xticklabels=['Estupro','Furto de veículo','Homicídio doloso','Lesão corporal seguida de morte','Roubo a instituição financeira','Roubo de carga','Roubo de veículo','Roubo seguido de morte (latrocínio)','Tentativa de homicídio'], yticklabels=['Estupro','Furto de veículo','Homicídio doloso','Lesão corporal seguida de morte','Roubo a instituição financeira','Roubo de carga','Roubo de veículo','Roubo seguido de morte (latrocínio)','Tentativa de homicídio'], annot=True)"
      ],
      "execution_count": 13,
      "outputs": [
        {
          "output_type": "execute_result",
          "data": {
            "text/plain": [
              "<matplotlib.axes._subplots.AxesSubplot at 0x7f40a32b5978>"
            ]
          },
          "metadata": {
            "tags": []
          },
          "execution_count": 13
        },
        {
          "output_type": "display_data",
          "data": {
            "image/png": "[encoded data removed]",
            "text/plain": [
              "<Figure size 432x288 with 2 Axes>"
            ]
          },
          "metadata": {
            "tags": [],
            "needs_background": "light"
          }
        }
      ]
    },
    {
      "cell_type": "markdown",
      "metadata": {
        "id": "_84A8L5LEApg"
      },
      "source": [
        "Antes de aplicar os algoritmos de clusterização, vamos verificar se existe alguma similaridade entre os casos nos estados"
      ]
    },
    {
      "cell_type": "code",
      "metadata": {
        "colab": {
          "base_uri": "https://localhost:8080/",
          "height": 258
        },
        "id": "Fcfbx9fKkNFA",
        "outputId": "4b08cc57-7955-40ec-fea2-7ef909bdb1e5"
      },
      "source": [
        "x = dataset_br_group[['Estupro','Furto de veículo','Homicídio doloso','Lesão corporal seguida de morte','Roubo a instituição financeira','Roubo de carga','Roubo de veículo','Roubo seguido de morte (latrocínio)','Tentativa de homicídio']].values #returns a numpy array\n",
        "min_max_scaler = preprocessing.MinMaxScaler()\n",
        "x_scaled = min_max_scaler.fit_transform(x)\n",
        "dataset_br_norm = pd.DataFrame(x_scaled, index=dataset_br_group.index, columns=['Estupro','Furto de veículo','Homicídio doloso','Lesão corporal seguida de morte','Roubo a instituição financeira','Roubo de carga','Roubo de veículo','Roubo seguido de morte (latrocínio)','Tentativa de homicídio'])\n",
        "dataset_br_norm.head()"
      ],
      "execution_count": 14,
      "outputs": [
        {
          "output_type": "execute_result",
          "data": {
            "text/html": [
              "<div>\n",
              "<style scoped>\n",
              "    .dataframe tbody tr th:only-of-type {\n",
              "        vertical-align: middle;\n",
              "    }\n",
              "\n",
              "    .dataframe tbody tr th {\n",
              "        vertical-align: top;\n",
              "    }\n",
              "\n",
              "    .dataframe thead th {\n",
              "        text-align: right;\n",
              "    }\n",
              "</style>\n",
              "<table border=\"1\" class=\"dataframe\">\n",
              "  <thead>\n",
              "    <tr style=\"text-align: right;\">\n",
              "      <th></th>\n",
              "      <th>Estupro</th>\n",
              "      <th>Furto de veículo</th>\n",
              "      <th>Homicídio doloso</th>\n",
              "      <th>Lesão corporal seguida de morte</th>\n",
              "      <th>Roubo a instituição financeira</th>\n",
              "      <th>Roubo de carga</th>\n",
              "      <th>Roubo de veículo</th>\n",
              "      <th>Roubo seguido de morte (latrocínio)</th>\n",
              "      <th>Tentativa de homicídio</th>\n",
              "    </tr>\n",
              "  </thead>\n",
              "  <tbody>\n",
              "    <tr>\n",
              "      <th>0</th>\n",
              "      <td>0.000504</td>\n",
              "      <td>0.000000</td>\n",
              "      <td>0.016896</td>\n",
              "      <td>0.009967</td>\n",
              "      <td>0.000000</td>\n",
              "      <td>0.000000</td>\n",
              "      <td>0.000000</td>\n",
              "      <td>0.022857</td>\n",
              "      <td>0.001163</td>\n",
              "    </tr>\n",
              "    <tr>\n",
              "      <th>1</th>\n",
              "      <td>0.000000</td>\n",
              "      <td>0.000000</td>\n",
              "      <td>0.055988</td>\n",
              "      <td>0.003322</td>\n",
              "      <td>0.000000</td>\n",
              "      <td>0.000000</td>\n",
              "      <td>0.000000</td>\n",
              "      <td>0.037143</td>\n",
              "      <td>0.000000</td>\n",
              "    </tr>\n",
              "    <tr>\n",
              "      <th>2</th>\n",
              "      <td>0.006044</td>\n",
              "      <td>0.004859</td>\n",
              "      <td>0.022196</td>\n",
              "      <td>0.000000</td>\n",
              "      <td>0.031447</td>\n",
              "      <td>0.000283</td>\n",
              "      <td>0.010793</td>\n",
              "      <td>0.022857</td>\n",
              "      <td>0.009884</td>\n",
              "    </tr>\n",
              "    <tr>\n",
              "      <th>3</th>\n",
              "      <td>0.018803</td>\n",
              "      <td>0.006346</td>\n",
              "      <td>0.051184</td>\n",
              "      <td>0.000000</td>\n",
              "      <td>0.018868</td>\n",
              "      <td>0.000094</td>\n",
              "      <td>0.013730</td>\n",
              "      <td>0.051429</td>\n",
              "      <td>0.014729</td>\n",
              "    </tr>\n",
              "    <tr>\n",
              "      <th>4</th>\n",
              "      <td>0.024679</td>\n",
              "      <td>0.005156</td>\n",
              "      <td>0.033957</td>\n",
              "      <td>0.006645</td>\n",
              "      <td>0.025157</td>\n",
              "      <td>0.000377</td>\n",
              "      <td>0.015841</td>\n",
              "      <td>0.034286</td>\n",
              "      <td>0.024031</td>\n",
              "    </tr>\n",
              "  </tbody>\n",
              "</table>\n",
              "</div>"
            ],
            "text/plain": [
              "    Estupro  ...  Tentativa de homicídio\n",
              "0  0.000504  ...                0.001163\n",
              "1  0.000000  ...                0.000000\n",
              "2  0.006044  ...                0.009884\n",
              "3  0.018803  ...                0.014729\n",
              "4  0.024679  ...                0.024031\n",
              "\n",
              "[5 rows x 9 columns]"
            ]
          },
          "metadata": {
            "tags": []
          },
          "execution_count": 14
        }
      ]
    },
    {
      "cell_type": "code",
      "metadata": {
        "id": "JJKhMFsn0GXF"
      },
      "source": [
        "#Trocando valores nulos por 0\r\n",
        "dataset_br_norm = dataset_br_norm.fillna(0)"
      ],
      "execution_count": 15,
      "outputs": []
    },
    {
      "cell_type": "code",
      "metadata": {
        "id": "4dV5Aw4suCmG"
      },
      "source": [
        "from scipy.spatial.distance import pdist, squareform"
      ],
      "execution_count": 16,
      "outputs": []
    },
    {
      "cell_type": "code",
      "metadata": {
        "id": "cPvmwcwguIGi"
      },
      "source": [
        "dataframe_dist = pd.DataFrame(\n",
        "    squareform(pdist(dataset_br_norm[['Estupro','Furto de veículo','Homicídio doloso','Lesão corporal seguida de morte','Roubo a instituição financeira','Roubo de carga','Roubo de veículo','Roubo seguido de morte (latrocínio)','Tentativa de homicídio']], metric='euclidean')),\n",
        "    columns = dataset_br_group.UF,\n",
        "    index = dataset_br_group.UF\n",
        ")"
      ],
      "execution_count": 17,
      "outputs": []
    },
    {
      "cell_type": "markdown",
      "metadata": {
        "id": "yZNiDQiIFaUI"
      },
      "source": [
        "Verificando a distancia dos dados encontrados entre um estado e outro"
      ]
    },
    {
      "cell_type": "code",
      "metadata": {
        "id": "sWyJTEl3urbE"
      },
      "source": [
        "long_form = dataframe_dist.unstack()\n",
        "\n",
        "long_form.index.rename([\"Estado A\", \"Estado B\"], inplace=True)\n",
        "long_form = long_form.to_frame('distancia').reset_index()"
      ],
      "execution_count": 18,
      "outputs": []
    },
    {
      "cell_type": "code",
      "metadata": {
        "colab": {
          "base_uri": "https://localhost:8080/",
          "height": 424
        },
        "id": "mLxRTlr6ut6W",
        "outputId": "cef2157a-7a6c-4bfb-faf5-f62ddcf95cba"
      },
      "source": [
        "long_form[\n",
        "    (long_form['distancia'] < 0.1) \n",
        "    & (long_form['Estado A'] != long_form['Estado B'])\n",
        "]"
      ],
      "execution_count": 19,
      "outputs": [
        {
          "output_type": "execute_result",
          "data": {
            "text/html": [
              "<div>\n",
              "<style scoped>\n",
              "    .dataframe tbody tr th:only-of-type {\n",
              "        vertical-align: middle;\n",
              "    }\n",
              "\n",
              "    .dataframe tbody tr th {\n",
              "        vertical-align: top;\n",
              "    }\n",
              "\n",
              "    .dataframe thead th {\n",
              "        text-align: right;\n",
              "    }\n",
              "</style>\n",
              "<table border=\"1\" class=\"dataframe\">\n",
              "  <thead>\n",
              "    <tr style=\"text-align: right;\">\n",
              "      <th></th>\n",
              "      <th>Estado A</th>\n",
              "      <th>Estado B</th>\n",
              "      <th>distancia</th>\n",
              "    </tr>\n",
              "  </thead>\n",
              "  <tbody>\n",
              "    <tr>\n",
              "      <th>11</th>\n",
              "      <td>Acre</td>\n",
              "      <td>Alagoas</td>\n",
              "      <td>0.081685</td>\n",
              "    </tr>\n",
              "    <tr>\n",
              "      <th>12</th>\n",
              "      <td>Acre</td>\n",
              "      <td>Amapá</td>\n",
              "      <td>0.069184</td>\n",
              "    </tr>\n",
              "    <tr>\n",
              "      <th>16</th>\n",
              "      <td>Acre</td>\n",
              "      <td>Amapá</td>\n",
              "      <td>0.099989</td>\n",
              "    </tr>\n",
              "    <tr>\n",
              "      <th>17</th>\n",
              "      <td>Acre</td>\n",
              "      <td>Amapá</td>\n",
              "      <td>0.038081</td>\n",
              "    </tr>\n",
              "    <tr>\n",
              "      <th>41</th>\n",
              "      <td>Acre</td>\n",
              "      <td>Distrito Federal</td>\n",
              "      <td>0.088869</td>\n",
              "    </tr>\n",
              "    <tr>\n",
              "      <th>...</th>\n",
              "      <td>...</td>\n",
              "      <td>...</td>\n",
              "      <td>...</td>\n",
              "    </tr>\n",
              "    <tr>\n",
              "      <th>26216</th>\n",
              "      <td>Tocantins</td>\n",
              "      <td>Roraima</td>\n",
              "      <td>0.024304</td>\n",
              "    </tr>\n",
              "    <tr>\n",
              "      <th>26217</th>\n",
              "      <td>Tocantins</td>\n",
              "      <td>Roraima</td>\n",
              "      <td>0.051643</td>\n",
              "    </tr>\n",
              "    <tr>\n",
              "      <th>26218</th>\n",
              "      <td>Tocantins</td>\n",
              "      <td>Roraima</td>\n",
              "      <td>0.047229</td>\n",
              "    </tr>\n",
              "    <tr>\n",
              "      <th>26219</th>\n",
              "      <td>Tocantins</td>\n",
              "      <td>Roraima</td>\n",
              "      <td>0.052036</td>\n",
              "    </tr>\n",
              "    <tr>\n",
              "      <th>26231</th>\n",
              "      <td>Tocantins</td>\n",
              "      <td>Sergipe</td>\n",
              "      <td>0.054714</td>\n",
              "    </tr>\n",
              "  </tbody>\n",
              "</table>\n",
              "<p>804 rows × 3 columns</p>\n",
              "</div>"
            ],
            "text/plain": [
              "        Estado A          Estado B  distancia\n",
              "11          Acre           Alagoas   0.081685\n",
              "12          Acre             Amapá   0.069184\n",
              "16          Acre             Amapá   0.099989\n",
              "17          Acre             Amapá   0.038081\n",
              "41          Acre  Distrito Federal   0.088869\n",
              "...          ...               ...        ...\n",
              "26216  Tocantins           Roraima   0.024304\n",
              "26217  Tocantins           Roraima   0.051643\n",
              "26218  Tocantins           Roraima   0.047229\n",
              "26219  Tocantins           Roraima   0.052036\n",
              "26231  Tocantins           Sergipe   0.054714\n",
              "\n",
              "[804 rows x 3 columns]"
            ]
          },
          "metadata": {
            "tags": []
          },
          "execution_count": 19
        }
      ]
    },
    {
      "cell_type": "markdown",
      "metadata": {
        "id": "lTJuFSddGSdG"
      },
      "source": [
        "Aplicando os algoritmos de clusterização baseado nas metricas de distancias dos dados entre os estados"
      ]
    },
    {
      "cell_type": "code",
      "metadata": {
        "colab": {
          "base_uri": "https://localhost:8080/"
        },
        "id": "kbpY1hi4weEr",
        "outputId": "5ae96acb-3a5a-4a8a-e70f-cd4a27838016"
      },
      "source": [
        "from sklearn import metrics\n",
        "\n",
        "for k in range(2, 10):\n",
        "\n",
        "  kmeans = KMeans(n_clusters=k)\n",
        "  kmeans.fit(dataset_br_norm[['Estupro','Furto de veículo','Homicídio doloso','Lesão corporal seguida de morte','Roubo a instituição financeira','Roubo de carga','Roubo de veículo','Roubo seguido de morte (latrocínio)','Tentativa de homicídio']])\n",
        "  score_mean = metrics.silhouette_score(dataset_br_norm[['Estupro','Furto de veículo','Homicídio doloso','Lesão corporal seguida de morte','Roubo a instituição financeira','Roubo de carga','Roubo de veículo','Roubo seguido de morte (latrocínio)','Tentativa de homicídio']], kmeans.labels_, metric='euclidean')\n",
        "  print(k, score_mean)"
      ],
      "execution_count": 20,
      "outputs": [
        {
          "output_type": "stream",
          "text": [
            "2 0.5435279605749905\n",
            "3 0.5006373434233852\n",
            "4 0.509624711082641\n",
            "5 0.35435004071431175\n",
            "6 0.3616370744002682\n",
            "7 0.3952021849176228\n",
            "8 0.4165112914496429\n",
            "9 0.41094731998115236\n"
          ],
          "name": "stdout"
        }
      ]
    },
    {
      "cell_type": "markdown",
      "metadata": {
        "id": "jfcwehYjL9Vs"
      },
      "source": [
        "Aplicando K-Means"
      ]
    },
    {
      "cell_type": "code",
      "metadata": {
        "colab": {
          "base_uri": "https://localhost:8080/"
        },
        "id": "fc0PYvCu1KsL",
        "outputId": "22105948-7596-4be4-8cdf-c3cad3e08e46"
      },
      "source": [
        "kmeans = KMeans(n_clusters=10,random_state=42)\n",
        "kmeans.fit(dataset_br_norm[['Estupro','Furto de veículo','Homicídio doloso','Lesão corporal seguida de morte','Roubo a instituição financeira','Roubo de carga','Roubo de veículo','Roubo seguido de morte (latrocínio)','Tentativa de homicídio']])"
      ],
      "execution_count": 21,
      "outputs": [
        {
          "output_type": "execute_result",
          "data": {
            "text/plain": [
              "KMeans(algorithm='auto', copy_x=True, init='k-means++', max_iter=300,\n",
              "       n_clusters=10, n_init=10, n_jobs=None, precompute_distances='auto',\n",
              "       random_state=42, tol=0.0001, verbose=0)"
            ]
          },
          "metadata": {
            "tags": []
          },
          "execution_count": 21
        }
      ]
    },
    {
      "cell_type": "code",
      "metadata": {
        "id": "d2fx1Wsd1_VP"
      },
      "source": [
        "clusters = kmeans.labels_.tolist()\n",
        "clusters_dict = { 'UF': list(dataset_br_group.UF), 'Ano': dataset_br_group.index, 'Cluster': clusters}\n",
        "dataframe_clusters = pd.DataFrame(clusters_dict, columns = ['UF','Ano','Cluster'])"
      ],
      "execution_count": 22,
      "outputs": []
    },
    {
      "cell_type": "code",
      "metadata": {
        "colab": {
          "base_uri": "https://localhost:8080/",
          "height": 424
        },
        "id": "e_L1wpsG2cly",
        "outputId": "f8bba17b-9fcb-4867-e10c-ee4d5ba8d468"
      },
      "source": [
        "dataframe_clusters"
      ],
      "execution_count": 23,
      "outputs": [
        {
          "output_type": "execute_result",
          "data": {
            "text/html": [
              "<div>\n",
              "<style scoped>\n",
              "    .dataframe tbody tr th:only-of-type {\n",
              "        vertical-align: middle;\n",
              "    }\n",
              "\n",
              "    .dataframe tbody tr th {\n",
              "        vertical-align: top;\n",
              "    }\n",
              "\n",
              "    .dataframe thead th {\n",
              "        text-align: right;\n",
              "    }\n",
              "</style>\n",
              "<table border=\"1\" class=\"dataframe\">\n",
              "  <thead>\n",
              "    <tr style=\"text-align: right;\">\n",
              "      <th></th>\n",
              "      <th>UF</th>\n",
              "      <th>Ano</th>\n",
              "      <th>Cluster</th>\n",
              "    </tr>\n",
              "  </thead>\n",
              "  <tbody>\n",
              "    <tr>\n",
              "      <th>0</th>\n",
              "      <td>Acre</td>\n",
              "      <td>0</td>\n",
              "      <td>2</td>\n",
              "    </tr>\n",
              "    <tr>\n",
              "      <th>1</th>\n",
              "      <td>Acre</td>\n",
              "      <td>1</td>\n",
              "      <td>2</td>\n",
              "    </tr>\n",
              "    <tr>\n",
              "      <th>2</th>\n",
              "      <td>Acre</td>\n",
              "      <td>2</td>\n",
              "      <td>2</td>\n",
              "    </tr>\n",
              "    <tr>\n",
              "      <th>3</th>\n",
              "      <td>Acre</td>\n",
              "      <td>3</td>\n",
              "      <td>2</td>\n",
              "    </tr>\n",
              "    <tr>\n",
              "      <th>4</th>\n",
              "      <td>Acre</td>\n",
              "      <td>4</td>\n",
              "      <td>2</td>\n",
              "    </tr>\n",
              "    <tr>\n",
              "      <th>...</th>\n",
              "      <td>...</td>\n",
              "      <td>...</td>\n",
              "      <td>...</td>\n",
              "    </tr>\n",
              "    <tr>\n",
              "      <th>157</th>\n",
              "      <td>Tocantins</td>\n",
              "      <td>157</td>\n",
              "      <td>2</td>\n",
              "    </tr>\n",
              "    <tr>\n",
              "      <th>158</th>\n",
              "      <td>Tocantins</td>\n",
              "      <td>158</td>\n",
              "      <td>2</td>\n",
              "    </tr>\n",
              "    <tr>\n",
              "      <th>159</th>\n",
              "      <td>Tocantins</td>\n",
              "      <td>159</td>\n",
              "      <td>2</td>\n",
              "    </tr>\n",
              "    <tr>\n",
              "      <th>160</th>\n",
              "      <td>Tocantins</td>\n",
              "      <td>160</td>\n",
              "      <td>2</td>\n",
              "    </tr>\n",
              "    <tr>\n",
              "      <th>161</th>\n",
              "      <td>Tocantins</td>\n",
              "      <td>161</td>\n",
              "      <td>2</td>\n",
              "    </tr>\n",
              "  </tbody>\n",
              "</table>\n",
              "<p>162 rows × 3 columns</p>\n",
              "</div>"
            ],
            "text/plain": [
              "            UF  Ano  Cluster\n",
              "0         Acre    0        2\n",
              "1         Acre    1        2\n",
              "2         Acre    2        2\n",
              "3         Acre    3        2\n",
              "4         Acre    4        2\n",
              "..         ...  ...      ...\n",
              "157  Tocantins  157        2\n",
              "158  Tocantins  158        2\n",
              "159  Tocantins  159        2\n",
              "160  Tocantins  160        2\n",
              "161  Tocantins  161        2\n",
              "\n",
              "[162 rows x 3 columns]"
            ]
          },
          "metadata": {
            "tags": []
          },
          "execution_count": 23
        }
      ]
    },
    {
      "cell_type": "markdown",
      "metadata": {
        "id": "EN2Xso_-MLNa"
      },
      "source": [
        "Aplicando Cluster Hierarquico"
      ]
    },
    {
      "cell_type": "code",
      "metadata": {
        "colab": {
          "base_uri": "https://localhost:8080/",
          "height": 444
        },
        "id": "_uK-knIh21BU",
        "outputId": "0ad317dd-63b9-415a-9dcf-ea4a4ba10295"
      },
      "source": [
        "plt.figure(figsize=(10, 7))\n",
        "plt.title(\"Dendrograma de Dados Criminais\")\n",
        "dend = shc.dendrogram(shc.linkage(dataset_br_norm, method='ward'))"
      ],
      "execution_count": 24,
      "outputs": [
        {
          "output_type": "display_data",
          "data": {
            "image/png": "[encoded data removed]",
            "text/plain": [
              "<Figure size 720x504 with 1 Axes>"
            ]
          },
          "metadata": {
            "tags": [],
            "needs_background": "light"
          }
        }
      ]
    },
    {
      "cell_type": "code",
      "metadata": {
        "colab": {
          "base_uri": "https://localhost:8080/"
        },
        "id": "5FGkMs6k38oi",
        "outputId": "961f49cf-54b2-417f-dc3b-5db75bc6ed3a"
      },
      "source": [
        "agg_cluster = AgglomerativeClustering(affinity='euclidean', linkage='ward')\n",
        "agg_cluster.fit(dataset_br_norm[['Estupro','Furto de veículo','Homicídio doloso','Lesão corporal seguida de morte','Roubo a instituição financeira','Roubo de carga','Roubo de veículo','Roubo seguido de morte (latrocínio)','Tentativa de homicídio']])"
      ],
      "execution_count": 25,
      "outputs": [
        {
          "output_type": "execute_result",
          "data": {
            "text/plain": [
              "AgglomerativeClustering(affinity='euclidean', compute_full_tree='auto',\n",
              "                        connectivity=None, distance_threshold=None,\n",
              "                        linkage='ward', memory=None, n_clusters=2)"
            ]
          },
          "metadata": {
            "tags": []
          },
          "execution_count": 25
        }
      ]
    },
    {
      "cell_type": "code",
      "metadata": {
        "id": "oaSAkNVQ4Fnz"
      },
      "source": [
        "clusters_h = agg_cluster.labels_.tolist()\n",
        "clusters_dict_h = { 'UF': list(dataset_br_group.UF), 'Ano': dataset_br_group.index, 'Cluster': clusters}\n",
        "dataframe_clusters_h = pd.DataFrame(clusters_dict_h, columns = ['UF', 'Ano','Cluster'])"
      ],
      "execution_count": 26,
      "outputs": []
    },
    {
      "cell_type": "code",
      "metadata": {
        "colab": {
          "base_uri": "https://localhost:8080/",
          "height": 424
        },
        "id": "JYxwdKXI5RDZ",
        "outputId": "cfc85c65-acde-438d-f285-bdd5097a9380"
      },
      "source": [
        "dataframe_clusters_h"
      ],
      "execution_count": null,
      "outputs": [
        {
          "output_type": "execute_result",
          "data": {
            "text/html": [
              "<div>\n",
              "<style scoped>\n",
              "    .dataframe tbody tr th:only-of-type {\n",
              "        vertical-align: middle;\n",
              "    }\n",
              "\n",
              "    .dataframe tbody tr th {\n",
              "        vertical-align: top;\n",
              "    }\n",
              "\n",
              "    .dataframe thead th {\n",
              "        text-align: right;\n",
              "    }\n",
              "</style>\n",
              "<table border=\"1\" class=\"dataframe\">\n",
              "  <thead>\n",
              "    <tr style=\"text-align: right;\">\n",
              "      <th></th>\n",
              "      <th>UF</th>\n",
              "      <th>Ano</th>\n",
              "      <th>Cluster</th>\n",
              "    </tr>\n",
              "  </thead>\n",
              "  <tbody>\n",
              "    <tr>\n",
              "      <th>0</th>\n",
              "      <td>Acre</td>\n",
              "      <td>0</td>\n",
              "      <td>2</td>\n",
              "    </tr>\n",
              "    <tr>\n",
              "      <th>1</th>\n",
              "      <td>Acre</td>\n",
              "      <td>1</td>\n",
              "      <td>2</td>\n",
              "    </tr>\n",
              "    <tr>\n",
              "      <th>2</th>\n",
              "      <td>Acre</td>\n",
              "      <td>2</td>\n",
              "      <td>2</td>\n",
              "    </tr>\n",
              "    <tr>\n",
              "      <th>3</th>\n",
              "      <td>Acre</td>\n",
              "      <td>3</td>\n",
              "      <td>2</td>\n",
              "    </tr>\n",
              "    <tr>\n",
              "      <th>4</th>\n",
              "      <td>Acre</td>\n",
              "      <td>4</td>\n",
              "      <td>2</td>\n",
              "    </tr>\n",
              "    <tr>\n",
              "      <th>...</th>\n",
              "      <td>...</td>\n",
              "      <td>...</td>\n",
              "      <td>...</td>\n",
              "    </tr>\n",
              "    <tr>\n",
              "      <th>157</th>\n",
              "      <td>Tocantins</td>\n",
              "      <td>157</td>\n",
              "      <td>2</td>\n",
              "    </tr>\n",
              "    <tr>\n",
              "      <th>158</th>\n",
              "      <td>Tocantins</td>\n",
              "      <td>158</td>\n",
              "      <td>2</td>\n",
              "    </tr>\n",
              "    <tr>\n",
              "      <th>159</th>\n",
              "      <td>Tocantins</td>\n",
              "      <td>159</td>\n",
              "      <td>2</td>\n",
              "    </tr>\n",
              "    <tr>\n",
              "      <th>160</th>\n",
              "      <td>Tocantins</td>\n",
              "      <td>160</td>\n",
              "      <td>2</td>\n",
              "    </tr>\n",
              "    <tr>\n",
              "      <th>161</th>\n",
              "      <td>Tocantins</td>\n",
              "      <td>161</td>\n",
              "      <td>2</td>\n",
              "    </tr>\n",
              "  </tbody>\n",
              "</table>\n",
              "<p>162 rows × 3 columns</p>\n",
              "</div>"
            ],
            "text/plain": [
              "            UF  Ano  Cluster\n",
              "0         Acre    0        2\n",
              "1         Acre    1        2\n",
              "2         Acre    2        2\n",
              "3         Acre    3        2\n",
              "4         Acre    4        2\n",
              "..         ...  ...      ...\n",
              "157  Tocantins  157        2\n",
              "158  Tocantins  158        2\n",
              "159  Tocantins  159        2\n",
              "160  Tocantins  160        2\n",
              "161  Tocantins  161        2\n",
              "\n",
              "[162 rows x 3 columns]"
            ]
          },
          "metadata": {
            "tags": []
          },
          "execution_count": 86
        }
      ]
    },
    {
      "cell_type": "code",
      "metadata": {
        "colab": {
          "base_uri": "https://localhost:8080/"
        },
        "id": "hrDWO_hkLvf6",
        "outputId": "a737771e-0c8b-4cf2-c53f-0904e86e240d"
      },
      "source": [
        "metrics.silhouette_score(dataset_br_norm, agg_cluster.labels_, metric='euclidean')"
      ],
      "execution_count": null,
      "outputs": [
        {
          "output_type": "execute_result",
          "data": {
            "text/plain": [
              "0.5321852583270221"
            ]
          },
          "metadata": {
            "tags": []
          },
          "execution_count": 87
        }
      ]
    },
    {
      "cell_type": "code",
      "metadata": {
        "colab": {
          "base_uri": "https://localhost:8080/"
        },
        "id": "MtxZI7gWLyqP",
        "outputId": "eb034594-1bb7-4b96-aba6-8dfa63a2809f"
      },
      "source": [
        "metrics.silhouette_score(dataset_br_norm, kmeans.labels_, metric='euclidean')"
      ],
      "execution_count": null,
      "outputs": [
        {
          "output_type": "execute_result",
          "data": {
            "text/plain": [
              "0.4316660954519816"
            ]
          },
          "metadata": {
            "tags": []
          },
          "execution_count": 88
        }
      ]
    },
    {
      "cell_type": "code",
      "metadata": {
        "colab": {
          "base_uri": "https://localhost:8080/"
        },
        "id": "a8bOGS0Wh6O2",
        "outputId": "e9d6b89d-9d99-4ce6-c3c8-9db1c3d26054"
      },
      "source": [
        "!pip install geopandas"
      ],
      "execution_count": 28,
      "outputs": [
        {
          "output_type": "stream",
          "text": [
            "Collecting geopandas\n",
            "\u001b[?25l  Downloading https://files.pythonhosted.org/packages/f7/a4/e66aafbefcbb717813bf3a355c8c4fc3ed04ea1dd7feb2920f2f4f868921/geopandas-0.8.1-py2.py3-none-any.whl (962kB)\n",
            "\u001b[K     |████████████████████████████████| 972kB 8.2MB/s \n",
            "\u001b[?25hRequirement already satisfied: shapely in /usr/local/lib/python3.6/dist-packages (from geopandas) (1.7.1)\n",
            "Requirement already satisfied: pandas>=0.23.0 in /usr/local/lib/python3.6/dist-packages (from geopandas) (1.1.5)\n",
            "Collecting pyproj>=2.2.0\n",
            "\u001b[?25l  Downloading https://files.pythonhosted.org/packages/e4/ab/280e80a67cfc109d15428c0ec56391fc03a65857b7727cf4e6e6f99a4204/pyproj-3.0.0.post1-cp36-cp36m-manylinux2010_x86_64.whl (6.4MB)\n",
            "\u001b[K     |████████████████████████████████| 6.5MB 17.3MB/s \n",
            "\u001b[?25hCollecting fiona\n",
            "\u001b[?25l  Downloading https://files.pythonhosted.org/packages/37/94/4910fd55246c1d963727b03885ead6ef1cd3748a465f7b0239ab25dfc9a3/Fiona-1.8.18-cp36-cp36m-manylinux1_x86_64.whl (14.8MB)\n",
            "\u001b[K     |████████████████████████████████| 14.8MB 326kB/s \n",
            "\u001b[?25hRequirement already satisfied: python-dateutil>=2.7.3 in /usr/local/lib/python3.6/dist-packages (from pandas>=0.23.0->geopandas) (2.8.1)\n",
            "Requirement already satisfied: pytz>=2017.2 in /usr/local/lib/python3.6/dist-packages (from pandas>=0.23.0->geopandas) (2018.9)\n",
            "Requirement already satisfied: numpy>=1.15.4 in /usr/local/lib/python3.6/dist-packages (from pandas>=0.23.0->geopandas) (1.18.5)\n",
            "Requirement already satisfied: certifi in /usr/local/lib/python3.6/dist-packages (from pyproj>=2.2.0->geopandas) (2020.12.5)\n",
            "Requirement already satisfied: attrs>=17 in /usr/local/lib/python3.6/dist-packages (from fiona->geopandas) (20.3.0)\n",
            "Collecting click-plugins>=1.0\n",
            "  Downloading https://files.pythonhosted.org/packages/e9/da/824b92d9942f4e472702488857914bdd50f73021efea15b4cad9aca8ecef/click_plugins-1.1.1-py2.py3-none-any.whl\n",
            "Requirement already satisfied: six>=1.7 in /usr/local/lib/python3.6/dist-packages (from fiona->geopandas) (1.15.0)\n",
            "Collecting munch\n",
            "  Downloading https://files.pythonhosted.org/packages/cc/ab/85d8da5c9a45e072301beb37ad7f833cd344e04c817d97e0cc75681d248f/munch-2.5.0-py2.py3-none-any.whl\n",
            "Collecting cligj>=0.5\n",
            "  Downloading https://files.pythonhosted.org/packages/42/1e/947eadf10d6804bf276eb8a038bd5307996dceaaa41cfd21b7a15ec62f5d/cligj-0.7.1-py3-none-any.whl\n",
            "Requirement already satisfied: click<8,>=4.0 in /usr/local/lib/python3.6/dist-packages (from fiona->geopandas) (7.1.2)\n",
            "Installing collected packages: pyproj, click-plugins, munch, cligj, fiona, geopandas\n",
            "Successfully installed click-plugins-1.1.1 cligj-0.7.1 fiona-1.8.18 geopandas-0.8.1 munch-2.5.0 pyproj-3.0.0.post1\n"
          ],
          "name": "stdout"
        }
      ]
    },
    {
      "cell_type": "code",
      "metadata": {
        "colab": {
          "base_uri": "https://localhost:8080/"
        },
        "id": "J_V5swb6g85m",
        "outputId": "7f616ff5-0702-4e8a-f470-22f35e2d58a6"
      },
      "source": [
        "import geopandas as gpd\r\n",
        "\r\n",
        "INFOS_UFS = gpd.read_file(\"/content/drive/MyDrive/Colab Notebooks/bcim_2016_21_11_2018.gpkg\", layer = 'lim_unidade_federacao_a')\r\n",
        "\r\n",
        "INFOS_UFS.columns"
      ],
      "execution_count": 29,
      "outputs": [
        {
          "output_type": "stream",
          "text": [
            "/usr/local/lib/python3.6/dist-packages/geopandas/geodataframe.py:422: RuntimeWarning:\n",
            "\n",
            "Sequential read of iterator was interrupted. Resetting iterator. This can negatively impact the performance.\n",
            "\n"
          ],
          "name": "stderr"
        },
        {
          "output_type": "execute_result",
          "data": {
            "text/plain": [
              "Index(['nome', 'nomeabrev', 'geometriaaproximada', 'sigla', 'geocodigo',\n",
              "       'id_produtor', 'id_elementoprodutor', 'cd_insumo_orgao',\n",
              "       'nr_insumo_mes', 'nr_insumo_ano', 'tx_insumo_documento', 'geometry'],\n",
              "      dtype='object')"
            ]
          },
          "metadata": {
            "tags": []
          },
          "execution_count": 29
        }
      ]
    },
    {
      "cell_type": "code",
      "metadata": {
        "colab": {
          "base_uri": "https://localhost:8080/",
          "height": 139
        },
        "id": "hUNcCbfz65t_",
        "outputId": "feed4e9a-4ef0-4574-c170-122ec70736cb"
      },
      "source": [
        "print(\"Estado: \" + INFOS_UFS.nome[4])\r\n",
        "INFOS_UFS.geometry[4]"
      ],
      "execution_count": 30,
      "outputs": [
        {
          "output_type": "stream",
          "text": [
            "Estado: Sergipe\n"
          ],
          "name": "stdout"
        },
        {
          "output_type": "execute_result",
          "data": {
            "text/plain": [
              "<shapely.geometry.multipolygon.MultiPolygon at 0x7f409d819550>"
            ],
            "image/svg+xml": "<svg xmlns=\"http://www.w3.org/2000/svg\" xmlns:xlink=\"http://www.w3.org/1999/xlink\" width=\"100.0\" height=\"100.0\" viewBox=\"-38.327507043739026 -11.648970005884998 2.0082648804678485 2.215593271060598\" preserveAspectRatio=\"xMinYMin meet\"><g transform=\"matrix(1,0,0,-1,0,-21.082346740709397)\"><g><path fill-rule=\"evenodd\" fill=\"#66cc99\" stroke=\"#555555\" stroke-width=\"0.04431186542121196\" opacity=\"0.6\" d=\"M -38.00366094529636,-9.51543574486368 L -38.00052330690505,-9.519983287298828 L -37.988257819542696,-9.528777952740256 L -37.96673672641873,-9.53312763443273 L -37.95188775481597,-9.53712896822725 L -37.92794142665548,-9.54478018525731 L -37.90273451068907,-9.541385320975735 L -37.89531520093573,-9.542096878068435 L -37.89360999190757,-9.543414853412685 L -37.84775890454978,-9.578853646778327 L -37.837485623262864,-9.586793973363115 L -37.79414458510445,-9.621597996450305 L -37.79039130951128,-9.633359874258758 L -37.78778138790068,-9.63703016131285 L -37.78147511508445,-9.637007108091495 L -37.75388401543495,-9.624761246634193 L -37.742751771876726,-9.625454568173723 L -37.71100431599632,-9.633060651827577 L -37.699852701940586,-9.638536471780697 L -37.69167276538576,-9.643288391446049 L -37.683867034935645,-9.646937382554142 L -37.67567681553254,-9.653896390505963 L -37.668215541613904,-9.664170759073215 L -37.667255553101256,-9.666249862141399 L -37.662788446029936,-9.675924531292026 L -37.66099898671382,-9.67911043359959 L -37.65680859923742,-9.686570872048037 L -37.64639770009376,-9.6916816526861 L -37.633368175700696,-9.701932548048603 L -37.62443818297572,-9.707782158619693 L -37.61365759052535,-9.712521415830622 L -37.5933761157151,-9.726052189956533 L -37.585549143278286,-9.734114765883703 L -37.56808697113678,-9.738824071173894 L -37.556583591759306,-9.738774341362728 L -37.54005461013213,-9.74238110480411 L -37.51034715569665,-9.746297258411687 L -37.50286220892377,-9.745954130178916 L -37.492538558407716,-9.745480869146775 L -37.46616933074995,-9.748607350548752 L -37.46264874304501,-9.749024769977098 L -37.43626773426848,-9.755892449077237 L -37.42219535962812,-9.761568648774073 L -37.40855840524614,-9.769281141111719 L -37.40123687158433,-9.776498063834538 L -37.39901890779629,-9.778684982126151 L -37.36459181216236,-9.787531217391745 L -37.35885286586705,-9.789975463197038 L -37.35501071477262,-9.791611457702572 L -37.35008119339233,-9.793710473559486 L -37.34435248587846,-9.799314347978736 L -37.33943454776613,-9.804124528424211 L -37.3264175761102,-9.818960396005423 L -37.31306337487479,-9.82805137547058 L -37.2968642717687,-9.829459326186907 L -37.29252258864648,-9.829836685314717 L -37.283398731766,-9.836040653952978 L -37.27136006241693,-9.845356514291666 L -37.26165716174859,-9.856718054394662 L -37.24799681959752,-9.888120782148349 L -37.23549779898417,-9.896849614518032 L -37.22602134221114,-9.898221565372921 L -37.22323653214022,-9.898624734144107 L -37.21582188806963,-9.896377519007274 L -37.19317536894806,-9.896255311033713 L -37.15399416919553,-9.89824777611392 L -37.13433548119747,-9.916007164299174 L -37.1301089490687,-9.919825356554895 L -37.10045208689428,-9.943575866333106 L -37.08661938697509,-9.959689159726906 L -37.072056117395846,-9.973221127253169 L -37.0550939952916,-9.984161928530114 L -37.04356887120639,-9.986301916600098 L -37.01984058367594,-9.979538066928228 L -37.001293696047185,-9.976115437877127 L -36.97953767392448,-9.981135299754214 L -36.96002867718164,-10.012663412786196 L -36.95932265901348,-10.026223204437315 L -36.95918589551263,-10.028849859733214 L -36.962038304024475,-10.04800260443659 L -36.95838260577261,-10.068218759687966 L -36.95670036722811,-10.071566915880396 L -36.95549917154949,-10.073957653822617 L -36.93995000039217,-10.104905138461334 L -36.9304051016141,-10.116621366682693 L -36.92235118256099,-10.126507440366026 L -36.92026929609108,-10.127348933306564 L -36.8804056422066,-10.143461728475927 L -36.87932593504382,-10.143898143384547 L -36.859535402836514,-10.158858766718652 L -36.850970312729714,-10.180509001589087 L -36.84537195565122,-10.194660136156301 L -36.843853220149924,-10.19849909285881 L -36.826307554050345,-10.210529471357972 L -36.80802890361099,-10.220713756634495 L -36.783891979431246,-10.217609490285724 L -36.73291225539623,-10.253695990677386 L -36.72039140374022,-10.263590275170998 L -36.71721503424641,-10.266100320773148 L -36.70865092979653,-10.26865050671546 L -36.70677481450605,-10.269209168268446 L -36.70322397900338,-10.270261760871506 L -36.69542495929437,-10.27257365794793 L -36.68608146458786,-10.270859202090435 L -36.66832548483319,-10.267601123792758 L -36.652817190560825,-10.253141231282768 L -36.644164470513886,-10.249847855494068 L -36.63409811243787,-10.246016427016457 L -36.6217963994842,-10.251080861092817 L -36.60937854808151,-10.271967260380734 L -36.59735239909389,-10.289911447555198 L -36.58853672099286,-10.301734170795328 L -36.57088068829307,-10.32541270783014 L -36.57474423425896,-10.35598463108579 L -36.57398398787069,-10.383209275887339 L -36.568274524050025,-10.400829994908293 L -36.5626598253906,-10.406743144380584 L -36.56292236357615,-10.408447793131074 L -36.564107865185804,-10.416146672430955 L -36.56404723649075,-10.41634277230105 L -36.56767219231779,-10.419332593624233 L -36.56335786477359,-10.419274366119055 L -36.560506015640044,-10.419235876934124 L -36.55410325366216,-10.422437274560536 L -36.5444991066484,-10.427384879508509 L -36.54317268487148,-10.427505460608472 L -36.53489494614479,-10.428257967431193 L -36.523253540618384,-10.4273848992936 L -36.52033098318827,-10.427316934828639 L -36.51073905526317,-10.427093875082221 L -36.50259004639349,-10.427093883176099 L -36.49634291839095,-10.427302127491146 L -36.49385900259085,-10.427384927172625 L -36.48919698185517,-10.424990921094093 L -36.48309070117489,-10.421855270204503 L -36.48308897537589,-10.421853477855677 L -36.48308328356666,-10.421856523859446 L -36.47551758306997,-10.413999862103879 L -36.46286385388373,-10.405955694399722 L -36.460922369571676,-10.406436501643213 L -36.44819095604777,-10.41182578613109 L -36.438082122991545,-10.421487774840898 L -36.429691142532135,-10.428474154558558 L -36.41593132636956,-10.451041211382744 L -36.409747133823146,-10.460444513703294 L -36.40696425099935,-10.492490515724683 L -36.41637597816879,-10.491772677766846 L -36.41713765178116,-10.492857431924904 L -36.42176601359063,-10.496059241440776 L -36.42029756907749,-10.497919805654476 L -36.41649413379719,-10.50062496277178 L -36.41065380153168,-10.503458982845757 L -36.40248724059364,-10.506130057456119 L -36.40130117331046,-10.508999217639712 L -36.40403452327456,-10.512763440680203 L -36.40649565115331,-10.514222226474544 L -36.40911235185354,-10.514386368036412 L -36.41464638042606,-10.513565728575486 L -36.42046072678107,-10.51404301587246 L -36.43497756256443,-10.51760947259902 L -36.44485896966569,-10.51883654626954 L -36.454714639069266,-10.52337373211202 L -36.45732808512298,-10.523969727221072 L -36.46576508569012,-10.523890165098976 L -36.48956493767167,-10.5309790891136 L -36.49246443198791,-10.532296798258585 L -36.49712300921948,-10.531611949232001 L -36.49944640143025,-10.53244579343857 L -36.51105019011413,-10.536610285835991 L -36.51843783293958,-10.540694916637051 L -36.52613150156748,-10.542766835920702 L -36.542370304346036,-10.549652889968854 L -36.55920454825127,-10.555102832829448 L -36.56209705933179,-10.557426300583245 L -36.566841648623154,-10.559325535644916 L -36.56905768786197,-10.560212615219996 L -36.58009144126697,-10.56317124985327 L -36.58299254806758,-10.564487234098522 L -36.595148712942716,-10.57292440463749 L -36.60443108972299,-10.576876973593414 L -36.607339042163005,-10.57704161517836 L -36.611876634499026,-10.5785205170082 L -36.61546678926089,-10.57969063751284 L -36.62299884791844,-10.584207067002467 L -36.63442380821215,-10.593644041739083 L -36.65976568633732,-10.610087224445806 L -36.6676488448183,-10.615512170650106 L -36.67540262413178,-10.62084808307253 L -36.67915503187919,-10.622519037823281 L -36.69280687903421,-10.62859831725848 L -36.70340947406794,-10.632254207965275 L -36.70434753441111,-10.632623286135697 L -36.705649220335204,-10.633276993438471 L -36.70687280013959,-10.633854207105912 L -36.70796610055504,-10.634378053204557 L -36.70884773023852,-10.634836255988375 L -36.70949531765473,-10.635045977889547 L -36.74281690817372,-10.652504007753691 L -36.744289807928226,-10.653275361668534 L -36.748925041457426,-10.656400178425429 L -36.75098495299312,-10.658357348712627 L -36.75304483485121,-10.660315409328632 L -36.769648658059054,-10.668846432217038 L -36.77516298878089,-10.671029098514055 L -36.77538089091536,-10.671115552140975 L -36.78367835357312,-10.678526961350144 L -36.78684077368274,-10.681352041263665 L -36.79021149746262,-10.683663987802731 L -36.797563690811614,-10.689079964168968 L -36.79947904622094,-10.690490917721604 L -36.800357699148435,-10.697430035367802 L -36.80194721938864,-10.700332738465079 L -36.81863828313021,-10.712603615464445 L -36.825243349401035,-10.718972472101882 L -36.83504948774362,-10.726565249386681 L -36.848766730899854,-10.739655720834776 L -36.85394383923676,-10.745151689199076 L -36.85897630960898,-10.74889205862155 L -36.862413361087704,-10.752156949283744 L -36.87579505819531,-10.766069772501965 L -36.88124484907047,-10.77199516084795 L -36.88711158992788,-10.778450524172285 L -36.89456684558343,-10.78666164561838 L -36.89965614321642,-10.791930786976195 L -36.90550310348539,-10.799636429177838 L -36.9088356060783,-10.803477744802024 L -36.91308013274187,-10.807380335733853 L -36.91798882942089,-10.81345114175673 L -36.92214720283113,-10.818515555148679 L -36.92621577803567,-10.822583067354628 L -36.92871363962274,-10.82659950616221 L -36.93038662324403,-10.828768903861771 L -36.93221378303963,-10.831247233972647 L -36.93772572246405,-10.836180510921793 L -36.941456999740694,-10.838681386137011 L -36.94408770108652,-10.841315978849309 L -36.94703669228949,-10.844265609470256 L -36.95095111200419,-10.849522209782094 L -36.95459468109959,-10.853000711913296 L -36.957852831343075,-10.857081641104799 L -36.960917436690295,-10.86098713594754 L -36.96287813501789,-10.863508602040326 L -36.96552453942593,-10.866463748203387 L -36.96885375769472,-10.870954946313702 L -36.971208090181165,-10.873819192601616 L -36.97383797314393,-10.878203290449449 L -36.97586933480193,-10.880589981442427 L -36.977870303871384,-10.882765373123448 L -36.98009256641876,-10.885589252442003 L -36.9819479163632,-10.888605236842182 L -36.98389689832317,-10.890754975361801 L -36.98557147374447,-10.892884259700793 L -36.98690733570493,-10.894843403999857 L -36.98961166814394,-10.897858714807796 L -36.99136342877915,-10.900009503735589 L -36.99512742249249,-10.904527767842183 L -36.99745960018038,-10.907852780881115 L -36.998952555715846,-10.910139782025283 L -37.000842398258044,-10.912727216987435 L -37.00276264687858,-10.915564979140413 L -37.01039648900672,-10.924915060481624 L -37.01358925134281,-10.93168015391592 L -37.017833954273556,-10.938018329282443 L -37.021078024731025,-10.938471654143484 L -37.02339317735323,-10.939025158084519 L -37.02952204180872,-10.948868320616441 L -37.035080460894505,-10.957795326692917 L -37.03504752142595,-10.963264486267008 L -37.03616375635221,-10.971330861829756 L -37.037733047242284,-10.976808533486974 L -37.04163224053542,-10.982444531689737 L -37.0475915072422,-10.987601507803276 L -37.04954760014158,-10.989357082463357 L -37.05169655085507,-10.990996232689952 L -37.05576706409869,-10.99405432334828 L -37.067735238290595,-11.004027162723332 L -37.07783058331472,-11.019066385904921 L -37.0847256863413,-11.026850993078824 L -37.086266926477435,-11.029340830015258 L -37.08713083232203,-11.031072697646835 L -37.08823128504571,-11.033040999742298 L -37.0883444512354,-11.0332414550291 L -37.08925396349957,-11.034852447482422 L -37.09012168157028,-11.036246205997543 L -37.09857266209866,-11.048077272248293 L -37.09993904615004,-11.049990090670121 L -37.104351372817575,-11.0571063558736 L -37.11220727464598,-11.069776283648537 L -37.11408323075648,-11.072232561483474 L -37.12512197539883,-11.086685970780877 L -37.135056790538385,-11.09969400497431 L -37.135051033078696,-11.10070118361267 L -37.13592275493113,-11.101138211858938 L -37.13998517517564,-11.108238338728313 L -37.146167053766476,-11.119040805388806 L -37.15223990754566,-11.127348951093154 L -37.155874723539625,-11.128592309687292 L -37.16311947488384,-11.152724274105935 L -37.16617418948721,-11.16289940068674 L -37.165274169567226,-11.164850035600637 L -37.16629479037226,-11.167505547443 L -37.16990554230688,-11.173281758945961 L -37.176273292778205,-11.1813757041254 L -37.18323656801317,-11.187169107068598 L -37.19601569237028,-11.19558579644729 L -37.2100792014939,-11.209188403921644 L -37.221672178528195,-11.221626260743278 L -37.23049989045751,-11.233473159558628 L -37.23832264957059,-11.242436766243713 L -37.25264878321474,-11.262083242347728 L -37.25822661686482,-11.268732815167255 L -37.26380378321795,-11.275380440055244 L -37.26873907554784,-11.283376950885554 L -37.27030760471217,-11.285918395417582 L -37.27363865130269,-11.290108711847552 L -37.27970232570175,-11.301364622978895 L -37.28200490849969,-11.307132543631951 L -37.29140082558757,-11.322577408720406 L -37.292404864692685,-11.325892221648644 L -37.293567200665734,-11.32661774521273 L -37.294428435523855,-11.329212208376646 L -37.29501196872735,-11.329215185132625 L -37.295148538873946,-11.330942601120114 L -37.30134667001278,-11.344644888550704 L -37.30430916903288,-11.35219949231265 L -37.30767914727477,-11.36079307743853 L -37.3123412669359,-11.369081135885665 L -37.32082903782981,-11.384170334393389 L -37.32741765909765,-11.407514902790467 L -37.32808041447953,-11.4109715981607 L -37.32940589826353,-11.417884684030923 L -37.3323076255964,-11.425086820100603 L -37.333303397233976,-11.426750597362116 L -37.33390910771908,-11.427464158144346 L -37.33473614315841,-11.42790491587914 L -37.335342243949356,-11.428727830624837 L -37.33600357660373,-11.429495928993902 L -37.33643092454747,-11.429787289551712 L -37.339739788460406,-11.429803759735705 L -37.34168583323458,-11.428061483350746 L -37.34410956100737,-11.427515736062333 L -37.34800994230494,-11.437286218983786 L -37.355311734049224,-11.43660184389995 L -37.360751016346285,-11.438656188632137 L -37.36736016553914,-11.44261994515432 L -37.37211528948899,-11.446281655374037 L -37.3765447644293,-11.452250546625407 L -37.38788561832661,-11.467532794502802 L -37.399306037943234,-11.478982173188683 L -37.43572403203842,-11.50651099118926 L -37.44844598199643,-11.51283913911493 L -37.459534200143196,-11.516248552628554 L -37.46342059518429,-11.51681873719491 L -37.474332619954396,-11.517206754188294 L -37.48162815511523,-11.517713614791433 L -37.491876005373285,-11.520012602999202 L -37.50428768562813,-11.521206390962107 L -37.51116325448055,-11.523580987872265 L -37.515654546120345,-11.527217621396062 L -37.51858672809499,-11.53347684617944 L -37.52645593809103,-11.541598217983335 L -37.53408619192419,-11.542212967554349 L -37.536662934846504,-11.542414975970303 L -37.54381810831899,-11.543708086858658 L -37.55068366142177,-11.544386018300031 L -37.552443426023274,-11.542378767466118 L -37.55653401753085,-11.541244827586695 L -37.56443539807509,-11.536099270165153 L -37.567210092571656,-11.535679986442176 L -37.573033621904074,-11.538583008798753 L -37.577819138442464,-11.545365718153334 L -37.579274390800435,-11.546091430575018 L -37.584093333340604,-11.545248603040534 L -37.58571027390997,-11.542521947629723 L -37.58617093723893,-11.537344346464351 L -37.58413778772865,-11.535033420655793 L -37.58371780523248,-11.530859062695527 L -37.586802038283395,-11.526267430997109 L -37.58957819777555,-11.52527215578533 L -37.59249352735435,-11.52600397100639 L -37.601062949495486,-11.534959988312778 L -37.606456013833906,-11.536134111699823 L -37.61681756807627,-11.535745026311872 L -37.622667734428376,-11.532459845145695 L -37.632062988715916,-11.523139896488999 L -37.63576835742373,-11.516256124920176 L -37.640260005195046,-11.515070354413297 L -37.64335729100611,-11.515693996480707 L -37.64693458905998,-11.520354760863484 L -37.6487928123384,-11.520729271838377 L -37.65215729931987,-11.516830571373703 L -37.65450349833776,-11.525539566497741 L -37.6636794511457,-11.529173124340161 L -37.665716669188896,-11.5306203250679 L -37.66509796350016,-11.539105822475676 L -37.66609372524516,-11.545298118813093 L -37.66884659049771,-11.55020025044115 L -37.671409545913775,-11.551343965051899 L -37.67313923089074,-11.55294174286712 L -37.67449228519075,-11.55563719270225 L -37.67434213078468,-11.562115931205199 L -37.67841640499307,-11.566533245512801 L -37.681143056806604,-11.566910995845717 L -37.68488426259859,-11.561913472228923 L -37.68712087292988,-11.56082037326155 L -37.68860374076996,-11.562050100831414 L -37.68995646681742,-11.5648675023333 L -37.69169172849041,-11.565119254050273 L -37.69456170345978,-11.560850389034158 L -37.69667262004532,-11.56000260353727 L -37.69877857147384,-11.560622756235148 L -37.700519684136054,-11.559405609281384 L -37.70077542164836,-11.55665686292383 L -37.69686489509877,-11.549304475321208 L -37.69850048311076,-11.541684373934686 L -37.70113987820275,-11.5383853288198 L -37.70421186698405,-11.536238643498564 L -37.707508229421194,-11.536670821701023 L -37.70920454955029,-11.54670379424465 L -37.71291467387306,-11.549163217008811 L -37.71650925599732,-11.549788080355597 L -37.72060654385689,-11.548458726788738 L -37.72767110433796,-11.549464620295964 L -37.727817705522625,-11.549247331499089 L -37.730539551359186,-11.545195407242204 L -37.734549115749076,-11.53457401188109 L -37.73953322327958,-11.533064269600288 L -37.742448403570904,-11.533938499661986 L -37.75032400774671,-11.534687542296183 L -37.75354284592555,-11.532397223553005 L -37.75369960944937,-11.529520573815375 L -37.75618765853358,-11.527514953452282 L -37.759565284610176,-11.521773007018624 L -37.76146499091658,-11.52091678228362 L -37.764968904291436,-11.520497650546076 L -37.76686149785979,-11.521512527381162 L -37.767437190773705,-11.523672357193504 L -37.769620032438525,-11.525263191343186 L -37.77428718290713,-11.525567776431672 L -37.778829660360486,-11.52026107848593 L -37.780437836137196,-11.519403679236348 L -37.782189047286636,-11.519265427357539 L -37.79166275932886,-11.522034203415728 L -37.79619000406541,-11.520755175910608 L -37.79884168029929,-11.52087428122303 L -37.79968991006126,-11.520912381900871 L -37.805677223025384,-11.519638459846988 L -37.814302807828255,-11.514489544356934 L -37.81709674332001,-11.508887737479029 L -37.81494993659027,-11.497369236900738 L -37.81175919862807,-11.492178260118578 L -37.81176248385151,-11.49102753619178 L -37.812644303291904,-11.489735298545156 L -37.82067723756444,-11.48703014772309 L -37.8254927258086,-11.48647126853416 L -37.83017011415939,-11.484041546779906 L -37.837345412660625,-11.476584476292487 L -37.8430399207557,-11.47516511587736 L -37.84450464477351,-11.47329987698771 L -37.846699669554084,-11.468618585579236 L -37.8503091156731,-11.464595703129135 L -37.85241856906168,-11.463869829728822 L -37.858492270002216,-11.464257622791024 L -37.864814787272564,-11.463728624476403 L -37.868185332986684,-11.459279861776167 L -37.86936592429794,-11.455254854228087 L -37.868934882838516,-11.45323934671842 L -37.865015607684086,-11.448190029346335 L -37.853516301336185,-11.44362369557706 L -37.85265712052967,-11.441175487358805 L -37.852915796127036,-11.438242058024514 L -37.856892999312436,-11.435320450278539 L -37.85813521846552,-11.43516197624416 L -37.85875220554982,-11.435082723488847 L -37.8606085330573,-11.43618919717369 L -37.863955527325686,-11.43632262059242 L -37.86966341373551,-11.43450868712614 L -37.8719729114207,-11.430725181721698 L -37.87358896975513,-11.429508443060172 L -37.87631681137168,-11.429272639920327 L -37.880167887338075,-11.426962315758203 L -37.88030091865244,-11.424517481796329 L -37.87881703188049,-11.423290319992248 L -37.87224700949184,-11.423023249223547 L -37.87125944506727,-11.422163842687155 L -37.871884800343196,-11.420454703621601 L -37.87449309687889,-11.41899541510628 L -37.88242348055911,-11.419878088003315 L -37.88638296350291,-11.421725486142236 L -37.89045385176382,-11.42773063625981 L -37.90172225807572,-11.431191214902583 L -37.903091212389484,-11.429850581139362 L -37.90360293652628,-11.424289136734217 L -37.909177022701385,-11.415242173687318 L -37.90729672646273,-11.410343634850847 L -37.90804152969281,-11.405741126751536 L -37.91754271602349,-11.399297599404633 L -37.923231276901845,-11.39888385370682 L -37.928764164234735,-11.401779044767068 L -37.93878044895848,-11.41620073317722 L -37.94155038154486,-11.416496979751741 L -37.94680632894887,-11.414786953055398 L -37.94708615480215,-11.409974920006505 L -37.947115845020164,-11.409464324518922 L -37.9482915611066,-11.406589710846447 L -37.95312090070894,-11.401568709528249 L -37.9553209140289,-11.397834852996027 L -37.95490050705274,-11.39236525185487 L -37.958553068469314,-11.390506271347306 L -37.96218632503883,-11.394402053511897 L -37.96466244191811,-11.395417686676865 L -37.96699700550738,-11.39513653162561 L -37.968021337814434,-11.39398890316528 L -37.96838258378915,-11.392063633629732 L -37.96861500457874,-11.390824938919764 L -37.96773260417632,-11.388826183981166 L -37.968629346966736,-11.385721875364197 L -37.972424945554735,-11.384937144933247 L -37.97621121547519,-11.386531657310115 L -37.98204339808433,-11.386980673519247 L -37.98306811979785,-11.385976750426664 L -37.98365934220482,-11.383244824988651 L -37.983226356411194,-11.381948989154466 L -37.97071003194236,-11.373851465572614 L -37.97072002790691,-11.370686584917905 L -37.97160405878026,-11.36781183454849 L -37.97495811452535,-11.36782121717539 L -37.97758607114025,-11.366822189992035 L -37.97905587362965,-11.363229622349138 L -37.980537334030714,-11.355607880599166 L -37.98308697048725,-11.349450683901921 L -37.987737235285124,-11.338218341303389 L -37.991682079064674,-11.33578398624195 L -37.99838820215376,-11.336235372164651 L -38.000369071375474,-11.334645675657384 L -38.00029944316475,-11.33106101845118 L -37.996221927799695,-11.32932211991988 L -37.99476449998167,-11.329317744718082 L -37.99214709691097,-11.32671980117783 L -37.991861145775204,-11.324992254788697 L -37.998505271401086,-11.321701660603082 L -37.99982190675553,-11.320411063319852 L -38.00062273595046,-11.317951778152008 L -37.99844690540033,-11.317148793282115 L -37.99465312883876,-11.31761563495354 L -37.993237491616924,-11.316855619691069 L -37.99236491450915,-11.316133372357228 L -37.99219878454625,-11.310027937938912 L -37.99334109531526,-11.308521627471066 L -37.99666412804703,-11.304140724914475 L -38.00170872937434,-11.299264066583362 L -38.00435456181356,-11.292508835114575 L -38.004367760263904,-11.288191162092403 L -37.999581560240756,-11.279974490929987 L -37.99933560195643,-11.279802332811357 L -37.993180329808354,-11.275494674639504 L -37.992894859809894,-11.27362333564838 L -37.99333443583549,-11.273048780376882 L -37.99289886539026,-11.272327844254562 L -37.99348673152741,-11.270891270815468 L -37.992328380450374,-11.268441416837845 L -37.98810424771284,-11.26698940293852 L -37.988261046310186,-11.263392648951537 L -37.98906647104076,-11.26238706481115 L -37.9898709730669,-11.261382380892144 L -37.99505714207339,-11.257943617104218 L -37.99703947988803,-11.25542634814741 L -37.996803833230274,-11.253434001777691 L -37.99471173315993,-11.251755206737357 L -37.99005318650529,-11.249583173124904 L -37.984236804085185,-11.244567897790205 L -37.98424301480327,-11.242576267280867 L -37.985697961391736,-11.241784208274566 L -37.98803642624006,-11.241950411082541 L -37.990509685073846,-11.243539999671214 L -37.99225932061114,-11.24340153375374 L -37.99387312254652,-11.240096621461873 L -37.994324646964856,-11.235637326801168 L -37.99148695136165,-11.234045756106696 L -37.98776905779573,-11.233389012692726 L -37.9870475524026,-11.231873419422698 L -37.989544833027594,-11.225693536427514 L -37.98940190647278,-11.224829717817158 L -37.98402651471184,-11.218913453093364 L -37.98082322041523,-11.218039406493347 L -37.978061244131084,-11.215441706669367 L -37.97792512724277,-11.21241897015932 L -37.97983237076727,-11.208395334077352 L -37.9778179127664,-11.20018647892283 L -37.97783416891173,-11.195006147415711 L -37.97900387752691,-11.19371417416977 L -37.982797399580306,-11.192287347582976 L -37.988041488523834,-11.193454167575737 L -37.99430830988058,-11.193473086613608 L -37.99897669331972,-11.192192458315276 L -38.003576283118946,-11.191836434703646 L -38.006412239433246,-11.191494998994983 L -38.01035164411303,-11.189923639664187 L -38.01749723710776,-11.188793827672953 L -38.03794501455076,-11.174173675074996 L -38.04539018341018,-11.170022653622539 L -38.04932921487131,-11.168739226633932 L -38.06596542446471,-11.16087081613523 L -38.07005518140147,-11.157716085229083 L -38.07356992890902,-11.151969469515336 L -38.07519021135914,-11.145930964442414 L -38.07566366664486,-11.132980112741961 L -38.07480367015319,-11.127940056588272 L -38.072202527724414,-11.120306697396131 L -38.07222711339051,-11.111671605859897 L -38.07340474233496,-11.10735773517132 L -38.07630909838616,-11.101977255046222 L -38.07867871305211,-11.097586177560004 L -38.08656874055487,-11.089693191287722 L -38.09029108216765,-11.08725589544315 L -38.094018166804915,-11.083092600043415 L -38.09431248613231,-11.081599788399444 L -38.094756269186405,-11.07935334128365 L -38.094473185089385,-11.076474746312442 L -38.08810132651496,-11.062785202275222 L -38.088550802277666,-11.058181694129814 L -38.09673679486713,-11.048417599092886 L -38.100983864813486,-11.040369592182913 L -38.10260229376081,-11.034617297250406 L -38.10278624289077,-11.020657845982782 L -38.10527931558789,-11.014620327466105 L -38.10665556160484,-11.01334735689494 L -38.107762055074716,-11.012324109170265 L -38.117527267969024,-11.009809402381961 L -38.12131535182198,-11.010058086511435 L -38.124656836843485,-11.013376038972979 L -38.12770466623732,-11.017702212387121 L -38.129889955856754,-11.017419490716861 L -38.13572869002701,-11.012973597753273 L -38.137046784081804,-11.010458054595517 L -38.1392171431566,-11.00783710639729 L -38.140553861271655,-11.006222124551357 L -38.14159076610093,-10.999603704247534 L -38.14363434954555,-10.995733758705967 L -38.14823237542373,-10.994152401611984 L -38.16683317830848,-10.982974255757256 L -38.16902425056867,-10.980676830571213 L -38.175152053824206,-10.976518432879345 L -38.17749178581721,-10.972926556815082 L -38.18481892045679,-10.955241937365486 L -38.18367555118567,-10.946316831556487 L -38.181362822236395,-10.939258650866009 L -38.18297572574909,-10.934945186670973 L -38.187209340038976,-10.931213153963824 L -38.19362087580271,-10.929501731519622 L -38.20206641992928,-10.929954217313252 L -38.2019399698537,-10.922181635873756 L -38.202529944901016,-10.918873761215082 L -38.20472173931677,-10.91600009273003 L -38.209383579288726,-10.915435205170525 L -38.21606832009684,-10.920920330408876 L -38.221602909846354,-10.920788613903369 L -38.224085827398994,-10.917772636697805 L -38.22657552673911,-10.911877752456292 L -38.22775345965442,-10.906267336368444 L -38.227774588326554,-10.897344924028971 L -38.22939279514134,-10.890439795360237 L -38.23742961628375,-10.878656809564063 L -38.241090308470916,-10.86974170601485 L -38.242119050153974,-10.865570294233635 L -38.24083660342649,-10.853765842519579 L -38.23866469571908,-10.848436083258605 L -38.23867410262767,-10.844406095265015 L -38.240444619523544,-10.834335534657157 L -38.24485035865706,-10.818225392487818 L -38.245448033699745,-10.81131860456992 L -38.244732346020896,-10.805991198834704 L -38.24183829620034,-10.798645161345064 L -38.24126241802611,-10.795764842373558 L -38.24140237861684,-10.794712148147084 L -38.241855356339556,-10.791304804872823 L -38.23998497242849,-10.781944640332824 L -38.23490844876585,-10.774161295807119 L -38.22460297444769,-10.761472100956667 L -38.22054375399102,-10.754553479759238 L -38.2170709859372,-10.746053776660403 L -38.21693803106524,-10.740872247256334 L -38.221622409846304,-10.729801889645444 L -38.22177397528867,-10.727210719798848 L -38.22032657131416,-10.72375227434793 L -38.21538330289707,-10.72158138017653 L -38.21204562020915,-10.717545158981864 L -38.20579682846085,-10.713499268276564 L -38.198785498851635,-10.711064792705997 L -38.19285559590901,-10.70900581106929 L -38.184708329925456,-10.707834907255119 L -38.16709698094087,-10.708512078769388 L -38.14788723810551,-10.708175115389224 L -38.14046637612233,-10.710240528977181 L -38.13405171431515,-10.712025886485435 L -38.12151975243461,-10.717893255968931 L -38.11293364427223,-10.717726764478527 L -38.10217442061298,-10.713812487756059 L -38.09301000970413,-10.712204383025835 L -38.08004238294956,-10.71763859134785 L -38.07522960885933,-10.721079457750704 L -38.07248613882422,-10.722012572722008 L -38.068009547502584,-10.720362578470201 L -38.06240056493408,-10.716073372588028 L -38.05580176513928,-10.71293895556829 L -38.04953290771749,-10.713268901538527 L -38.028990312053224,-10.73680646984269 L -38.02433459286715,-10.745120601434564 L -38.01909404635313,-10.74668522933979 L -37.995971382972925,-10.752048412803958 L -37.98886935583607,-10.75412660036227 L -37.97291729289873,-10.754881377073843 L -37.97241066252201,-10.75467846663787 L -37.81394120122542,-10.691209600142884 L -37.821244262812456,-10.58670991173301 L -37.819851909038334,-10.584878037691226 L -37.822196156527355,-10.583546531147476 L -37.82350493900168,-10.583551150964809 L -37.82757171106556,-10.585436403367282 L -37.82873609479492,-10.585440496181889 L -37.83228484926633,-10.58319498615964 L -37.830356667725994,-10.579544932052897 L -37.83065337295477,-10.578106375608684 L -37.83254637211735,-10.577536988740974 L -37.833423294749196,-10.576388924109494 L -37.83548253539067,-10.570206395308844 L -37.83664748839084,-10.56977912380745 L -37.83564222081179,-10.566177520675978 L -37.8366705712898,-10.563301909655365 L -37.83493889431446,-10.559410205016889 L -37.839605488102734,-10.5562597126156 L -37.841359168790575,-10.553962626474004 L -37.841952643099944,-10.550510361164186 L -37.84137408944264,-10.54950098907932 L -37.83963066732139,-10.54891890378434 L -37.835265460632456,-10.549335021893683 L -37.83207634055066,-10.546445558615574 L -37.832094362964426,-10.54140789915516 L -37.8313705544075,-10.540397999168306 L -37.82686647890483,-10.53879879233034 L -37.82439443775303,-10.538573963617466 L -37.823811637497045,-10.535307116929857 L -37.82296842235479,-10.530580539260427 L -37.818203280856665,-10.517086290200098 L -37.81791329266429,-10.515155524907527 L -37.81621157120702,-10.508678440257768 L -37.816217833186386,-10.506951280577084 L -37.817837468124594,-10.501774575136494 L -37.81799525687558,-10.498320765690721 L -37.81975917994214,-10.493145457796572 L -37.81992422892,-10.487676011338806 L -37.820960783013675,-10.482498109799906 L -37.82447587765961,-10.475601757614982 L -37.83704437180029,-10.45837298022883 L -37.840856434276986,-10.449749352350693 L -37.84203370888849,-10.445723907732088 L -37.8462741355429,-10.4391164582579 L -37.850067580254574,-10.435387590265009 L -37.854307611207275,-10.429068494915043 L -37.85824609588059,-10.425340025321873 L -37.85941845479783,-10.422897007990457 L -37.85899436959443,-10.419297350092563 L -37.85464202860669,-10.416546914808237 L -37.852905356796725,-10.414237690516984 L -37.853212520241584,-10.409489360045882 L -37.854392938882995,-10.40474312499515 L -37.854975407289146,-10.404313775160574 L -37.853825717582765,-10.400566916230161 L -37.84888369202872,-10.400117625727773 L -37.84099658642327,-10.397388233679976 L -37.840438719870974,-10.395517097036361 L -37.8420138986225,-10.387672311727783 L -37.841823929430745,-10.385863041246296 L -37.84157738658706,-10.383522747176983 L -37.8406803811946,-10.381732719489378 L -37.83804611493622,-10.3791706894757 L -37.83625968723476,-10.373995440037504 L -37.834245146496244,-10.372355219617646 L -37.832271461958385,-10.371556135107483 L -37.826712919665454,-10.371234572617368 L -37.82195782539327,-10.367205381423162 L -37.813830742894424,-10.363433617567352 L -37.80685652201083,-10.362401318166235 L -37.7980166422542,-10.354597006846348 L -37.795261152779915,-10.352859823322149 L -37.79032526240087,-10.350970016752797 L -37.786909157931234,-10.351440766877829 L -37.78558058767396,-10.347776816446867 L -37.78430395776138,-10.346503412402512 L -37.77933234361274,-10.345417243610882 L -37.777745542922446,-10.34430364549678 L -37.771554156698926,-10.344343273223444 L -37.765050420640364,-10.345107792290719 L -37.76285816577172,-10.344714424331187 L -37.75321924467238,-10.340639835360093 L -37.7480274513058,-10.340100387822588 L -37.74207571282386,-10.336980698100717 L -37.74159950561267,-10.336818602496464 L -37.73610344371889,-10.33494780669588 L -37.73512141821885,-10.332520823377251 L -37.73441363288282,-10.330771599729474 L -37.764211305507274,-10.193560408286146 L -37.77644241988173,-10.13723903055677 L -37.77647851507135,-10.137128735003046 L -37.77747278933771,-10.134090295430724 L -37.77977967539164,-10.130296921765478 L -37.78658225436749,-10.12310245061758 L -37.78866769226016,-10.121633258767815 L -37.794498521389585,-10.115017478873483 L -37.80416757337474,-10.100194047117554 L -37.81130458413918,-10.080013012190705 L -37.817747650133924,-10.06728201865019 L -37.820605276512254,-10.059801483951276 L -37.82341429992994,-10.04753405585194 L -37.824192084896765,-10.034621290440157 L -37.82430609105319,-10.032728567369418 L -37.822249348728405,-10.02845911869332 L -37.81644449201963,-10.024447654035953 L -37.81627815431335,-10.023768802588108 L -37.82169532587852,-10.020155268151086 L -37.82443950547878,-10.01719057748312 L -37.824475169893105,-10.0148837166102 L -37.8232474316236,-10.010991593786969 L -37.82327460104199,-10.007751418293253 L -37.82438999869942,-10.005582214847266 L -37.831697590171586,-10.002865967290518 L -37.8330566762246,-9.999627748721593 L -37.848085151608416,-9.994299236820268 L -37.85527208913555,-9.989956039239758 L -37.862084545365406,-9.987781836462545 L -37.864887641351515,-9.985794609933237 L -37.867361365134855,-9.982754483232782 L -37.87661587282423,-9.978689156379403 L -37.87863803531701,-9.979323593009383 L -37.881637772565114,-9.981407353666384 L -37.88322798528327,-9.981376521309357 L -37.892450086802,-9.978459166457299 L -37.89821851826997,-9.97815184293313 L -37.90122559038866,-9.97917194033272 L -37.90769481046709,-9.977451462614852 L -37.91370038866194,-9.977146458442235 L -37.921752753686576,-9.97445236838206 L -37.92310799333916,-9.97346016525438 L -37.92569289940775,-9.970538434301261 L -37.92791735090498,-9.966247244514648 L -37.933305729775554,-9.966593741607824 L -37.93680448553852,-9.966296700931935 L -37.93889017883862,-9.966119628917681 L -37.94258791050362,-9.96739838932416 L -37.9455030035607,-9.970079080385233 L -37.94791296361234,-9.970993768247752 L -37.95344221678482,-9.97124994912582 L -37.9620849129883,-9.969521676983732 L -37.96388992877712,-9.96847192893631 L -37.96600406763355,-9.966015966763393 L -37.970860240307786,-9.963302604231728 L -37.972217090646154,-9.961735041838665 L -37.972696812407946,-9.959446715093804 L -37.97408392942975,-9.957819551930754 L -37.97552691053846,-9.949419894812252 L -37.979892503935844,-9.945375496981569 L -37.98211550392733,-9.941266616860844 L -37.98558374479393,-9.937092789500582 L -37.98791306353701,-9.932483183951717 L -37.987638578757355,-9.926271285091673 L -37.98824703127542,-9.92212217469853 L -37.98894321175976,-9.921160256240796 L -37.99650528618997,-9.919459457487903 L -37.998028071338354,-9.916921923208122 L -37.99842413636475,-9.909702795347698 L -37.997082311899135,-9.907670297845925 L -37.99541631151351,-9.906661444669908 L -37.99191610334543,-9.902707897251616 L -37.99080718440399,-9.900590166502923 L -37.989673929807964,-9.896021572737368 L -37.98608331549258,-9.890398257673382 L -37.984831872892585,-9.878099808359423 L -37.98286181801842,-9.869054813928472 L -37.97766489132164,-9.861928884610279 L -37.973723661917404,-9.853431231066395 L -37.97327793992497,-9.848424277158642 L -37.976615165757266,-9.8438766339994 L -37.9769171167315,-9.842382672122596 L -37.97680416727843,-9.839134802928754 L -37.97577819640662,-9.836254001920622 L -37.97430689744533,-9.828540784729398 L -37.97369450949395,-9.827257430585917 L -37.96955981883053,-9.82505431190691 L -37.96824728708259,-9.823730796738857 L -37.96675215069115,-9.820175675067276 L -37.966914718439455,-9.816338116810584 L -37.96883546258647,-9.815327585499631 L -37.97463638566063,-9.814475531820278 L -37.98142072728467,-9.81550834383495 L -37.981423200420295,-9.81545025842263 L -37.981477783872606,-9.814168270349342 L -37.98719671305781,-9.808857298825217 L -37.992277958161196,-9.805374703879409 L -37.9987195483684,-9.803356655784967 L -38.000671203113484,-9.800228046587051 L -38.00311508379406,-9.798027860597244 L -38.00552931562538,-9.794772190684 L -38.008365054303795,-9.793514566144268 L -38.0105566805463,-9.793291387687361 L -38.014723760293236,-9.790751682444125 L -38.01747363619933,-9.787702207290977 L -38.018003252348194,-9.786217924817322 L -38.017916170095134,-9.78333550323083 L -38.01963514324723,-9.780474689655136 L -38.020003832910504,-9.778529613450871 L -38.02060923762616,-9.777911917700806 L -38.021999619187056,-9.778210827167868 L -38.0231640586743,-9.77753960376964 L -38.02472397143407,-9.777548703110142 L -38.02605795381146,-9.776580435438689 L -38.02781310399149,-9.776438562889325 L -38.032788089698556,-9.769212439202647 L -38.03512457334034,-9.764324884685607 L -38.035717605183265,-9.76015212571997 L -38.03616201596424,-9.759077238024076 L -38.03722251720535,-9.756516476953777 L -38.03689296873546,-9.755117398049435 L -38.036329630707826,-9.749213981040327 L -38.03751686710967,-9.740436185081819 L -38.0383912536534,-9.739142782813133 L -38.04102954977384,-9.730082489115546 L -38.04339676235065,-9.714542643028494 L -38.045451155646276,-9.706488086356046 L -38.04576451721863,-9.6984267182184 L -38.04476340630612,-9.693529511277859 L -38.04325628554909,-9.691188342168232 L -38.04216383499295,-9.689492257661527 L -38.03520919684689,-9.68644891498542 L -38.028840768286784,-9.681248462046824 L -38.02256737648321,-9.668706671475661 L -38.01830474826545,-9.663224620120104 L -38.01266466354332,-9.657306149359272 L -38.00556778682386,-9.653398113931758 L -38.001519470647,-9.648923932793195 L -38.00299006184184,-9.642450511082188 L -38.00676332127023,-9.641741944235264 L -38.00981772111089,-9.63916010305627 L -38.012005246444915,-9.635423521578218 L -38.02117526552604,-9.624943051780349 L -38.024200231455495,-9.620981843936875 L -38.03347563579189,-9.615128910370856 L -38.03561537474968,-9.612929427650897 L -38.03782882124307,-9.606723897789607 L -38.040832631520686,-9.602863792629876 L -38.03914356082663,-9.591879275308258 L -38.039391431968966,-9.583484066236622 L -38.038113400912664,-9.582746948612737 L -38.03777290229755,-9.581101867357233 L -38.04103103455458,-9.577435129027947 L -38.04405843135146,-9.574677470388906 L -38.04409650594897,-9.57419556057664 L -38.040199908998545,-9.567850319236811 L -38.03657407093658,-9.567696037841813 L -38.0322141117918,-9.570850379341493 L -38.029748169842094,-9.570986981863655 L -38.02801132985894,-9.569830679442248 L -38.02426291060482,-9.56219066616626 L -38.023840328168546,-9.558158773408593 L -38.02182454906364,-9.553114762036614 L -38.02155375150437,-9.546779960027095 L -38.02359432671676,-9.54318759023505 L -38.023605482806715,-9.539445461738637 L -38.0208331903994,-9.536692633358314 L -38.019109978742506,-9.53318685299081 L -38.01769055267681,-9.528036063313607 L -38.015313349531425,-9.523003615424443 L -38.00942007327774,-9.518181349889346 L -38.006465115072956,-9.51658270242973 L -38.004948823929055,-9.517017673926489 L -38.00366094529636,-9.51543574486368 z\" /></g></g></svg>"
          },
          "metadata": {
            "tags": []
          },
          "execution_count": 30
        }
      ]
    },
    {
      "cell_type": "code",
      "metadata": {
        "colab": {
          "base_uri": "https://localhost:8080/"
        },
        "id": "2q7NtJFsbvDp",
        "outputId": "6235ecb6-f0c9-49fc-88d2-d3bdf8487456"
      },
      "source": [
        "dataframe_clusters['Cluster'].astype(float)"
      ],
      "execution_count": null,
      "outputs": [
        {
          "output_type": "execute_result",
          "data": {
            "text/plain": [
              "0      2.0\n",
              "1      2.0\n",
              "2      2.0\n",
              "3      2.0\n",
              "4      2.0\n",
              "      ... \n",
              "157    2.0\n",
              "158    2.0\n",
              "159    2.0\n",
              "160    2.0\n",
              "161    2.0\n",
              "Name: Cluster, Length: 162, dtype: float64"
            ]
          },
          "metadata": {
            "tags": []
          },
          "execution_count": 136
        }
      ]
    },
    {
      "cell_type": "code",
      "metadata": {
        "colab": {
          "base_uri": "https://localhost:8080/",
          "height": 206
        },
        "id": "XNYRO7dd8ccp",
        "outputId": "ed40293a-fdf7-4f4a-83e7-bf474ae23c32"
      },
      "source": [
        "INFOS_UFS.rename({'sigla': 'UF'}, axis = 1, inplace = True)\r\n",
        "\r\n",
        "brasil = INFOS_UFS.merge(dataframe_clusters, on = 'UF', how = 'left')\r\n",
        "\r\n",
        "brasil[['UF','Cluster','geometry']].head()\r\n"
      ],
      "execution_count": 31,
      "outputs": [
        {
          "output_type": "execute_result",
          "data": {
            "text/html": [
              "<div>\n",
              "<style scoped>\n",
              "    .dataframe tbody tr th:only-of-type {\n",
              "        vertical-align: middle;\n",
              "    }\n",
              "\n",
              "    .dataframe tbody tr th {\n",
              "        vertical-align: top;\n",
              "    }\n",
              "\n",
              "    .dataframe thead th {\n",
              "        text-align: right;\n",
              "    }\n",
              "</style>\n",
              "<table border=\"1\" class=\"dataframe\">\n",
              "  <thead>\n",
              "    <tr style=\"text-align: right;\">\n",
              "      <th></th>\n",
              "      <th>UF</th>\n",
              "      <th>Cluster</th>\n",
              "      <th>geometry</th>\n",
              "    </tr>\n",
              "  </thead>\n",
              "  <tbody>\n",
              "    <tr>\n",
              "      <th>0</th>\n",
              "      <td>GO</td>\n",
              "      <td>NaN</td>\n",
              "      <td>MULTIPOLYGON (((-50.15876 -12.41581, -50.15743...</td>\n",
              "    </tr>\n",
              "    <tr>\n",
              "      <th>1</th>\n",
              "      <td>MS</td>\n",
              "      <td>NaN</td>\n",
              "      <td>MULTIPOLYGON (((-56.09815 -17.17220, -56.09159...</td>\n",
              "    </tr>\n",
              "    <tr>\n",
              "      <th>2</th>\n",
              "      <td>PR</td>\n",
              "      <td>NaN</td>\n",
              "      <td>MULTIPOLYGON (((-52.08090 -22.52893, -52.04903...</td>\n",
              "    </tr>\n",
              "    <tr>\n",
              "      <th>3</th>\n",
              "      <td>MG</td>\n",
              "      <td>NaN</td>\n",
              "      <td>MULTIPOLYGON (((-44.21152 -14.22955, -44.20750...</td>\n",
              "    </tr>\n",
              "    <tr>\n",
              "      <th>4</th>\n",
              "      <td>SE</td>\n",
              "      <td>NaN</td>\n",
              "      <td>MULTIPOLYGON (((-38.00366 -9.51544, -38.00052 ...</td>\n",
              "    </tr>\n",
              "  </tbody>\n",
              "</table>\n",
              "</div>"
            ],
            "text/plain": [
              "   UF  Cluster                                           geometry\n",
              "0  GO      NaN  MULTIPOLYGON (((-50.15876 -12.41581, -50.15743...\n",
              "1  MS      NaN  MULTIPOLYGON (((-56.09815 -17.17220, -56.09159...\n",
              "2  PR      NaN  MULTIPOLYGON (((-52.08090 -22.52893, -52.04903...\n",
              "3  MG      NaN  MULTIPOLYGON (((-44.21152 -14.22955, -44.20750...\n",
              "4  SE      NaN  MULTIPOLYGON (((-38.00366 -9.51544, -38.00052 ..."
            ]
          },
          "metadata": {
            "tags": []
          },
          "execution_count": 31
        }
      ]
    },
    {
      "cell_type": "code",
      "metadata": {
        "colab": {
          "base_uri": "https://localhost:8080/",
          "height": 614
        },
        "id": "Z7L1U9Mm_guQ",
        "outputId": "ae40e8ba-74e9-4d72-d4ae-2b43349c2c2f"
      },
      "source": [
        "%matplotlib inline\r\n",
        "\r\n",
        "brasil.plot(column  = 'Cluster',\r\n",
        "\r\n",
        "            cmap = 'Reds',\r\n",
        "            figsize = (16,10),\r\n",
        "            legend = True,\r\n",
        "            edgecolor = 'black')"
      ],
      "execution_count": 32,
      "outputs": [
        {
          "output_type": "execute_result",
          "data": {
            "text/plain": [
              "<matplotlib.axes._subplots.AxesSubplot at 0x7f40a388f5c0>"
            ]
          },
          "metadata": {
            "tags": []
          },
          "execution_count": 32
        },
        {
          "output_type": "display_data",
          "data": {
            "image/png": "[encoded data removed]",
            "text/plain": [
              "<Figure size 1152x720 with 2 Axes>"
            ]
          },
          "metadata": {
            "tags": [],
            "needs_background": "light"
          }
        }
      ]
    },
    {
      "cell_type": "markdown",
      "metadata": {
        "id": "OCi9a18RVT51"
      },
      "source": [
        "Pequena base de dados do covid-19, com casos confirmados por estado, para efeitos de comparação atualizado até 09/ 12/ 2020 extraidos para criação dessa base: https://www.google.com.br/search?source=hp&ei=9T7RX6zpKefH5OUPztqO6A0&q=covid--19+casos+confirmados&oq=covid--19+casos+confirmados&gs_lcp=CgZwc3ktYWIQAzIICAAQFhAKEB46CAgAELEDEIMBOgsIABCxAxDHARCjAjoOCAAQsQMQgwEQxwEQowI6CAguELEDEIMBOgIIADoFCC4QsQM6AgguOgUILhCTAjoFCAAQsQM6BAgAEB46BAgAEBM6BggAEB4QEzoICAAQFhAeEBM6BggAEBYQHjoICCEQFhAdEB5QlQlYsmZgk2xoAXAAeAGAAeQEiAHTRpIBCzItMTAuMTMuMy4xmAEAoAEBqgEHZ3dzLXdperABAA&sclient=psy-ab&ved=0ahUKEwjst8G36cHtAhXnI7kGHU6tA90Q4dUDCAY&uact=5 "
      ]
    },
    {
      "cell_type": "code",
      "metadata": {
        "colab": {
          "base_uri": "https://localhost:8080/",
          "height": 206
        },
        "id": "J1whWnJ9SQwn",
        "outputId": "e45d7358-d883-4dbe-9ac1-4a233c34b917"
      },
      "source": [
        "corona_cases = pd.read_excel(\"/content/Covid.xlsx\")\r\n",
        "corona_cases.head()"
      ],
      "execution_count": 33,
      "outputs": [
        {
          "output_type": "execute_result",
          "data": {
            "text/html": [
              "<div>\n",
              "<style scoped>\n",
              "    .dataframe tbody tr th:only-of-type {\n",
              "        vertical-align: middle;\n",
              "    }\n",
              "\n",
              "    .dataframe tbody tr th {\n",
              "        vertical-align: top;\n",
              "    }\n",
              "\n",
              "    .dataframe thead th {\n",
              "        text-align: right;\n",
              "    }\n",
              "</style>\n",
              "<table border=\"1\" class=\"dataframe\">\n",
              "  <thead>\n",
              "    <tr style=\"text-align: right;\">\n",
              "      <th></th>\n",
              "      <th>UF</th>\n",
              "      <th>confirmed_cases</th>\n",
              "    </tr>\n",
              "  </thead>\n",
              "  <tbody>\n",
              "    <tr>\n",
              "      <th>0</th>\n",
              "      <td>SP</td>\n",
              "      <td>1296801</td>\n",
              "    </tr>\n",
              "    <tr>\n",
              "      <th>1</th>\n",
              "      <td>MG</td>\n",
              "      <td>444800</td>\n",
              "    </tr>\n",
              "    <tr>\n",
              "      <th>2</th>\n",
              "      <td>BA</td>\n",
              "      <td>428034</td>\n",
              "    </tr>\n",
              "    <tr>\n",
              "      <th>3</th>\n",
              "      <td>SC</td>\n",
              "      <td>406003</td>\n",
              "    </tr>\n",
              "    <tr>\n",
              "      <th>4</th>\n",
              "      <td>RJ</td>\n",
              "      <td>374753</td>\n",
              "    </tr>\n",
              "  </tbody>\n",
              "</table>\n",
              "</div>"
            ],
            "text/plain": [
              "   UF  confirmed_cases\n",
              "0  SP          1296801\n",
              "1  MG           444800\n",
              "2  BA           428034\n",
              "3  SC           406003\n",
              "4  RJ           374753"
            ]
          },
          "metadata": {
            "tags": []
          },
          "execution_count": 33
        }
      ]
    },
    {
      "cell_type": "code",
      "metadata": {
        "colab": {
          "base_uri": "https://localhost:8080/"
        },
        "id": "mmfnNAok6Cvh",
        "outputId": "b1d7aa37-88a8-4dca-e204-02e47ee5514a"
      },
      "source": [
        "import geopandas as gpd\r\n",
        "\r\n",
        "INFOS_UFS2 = gpd.read_file(\"/content/drive/MyDrive/Colab Notebooks/bcim_2016_21_11_2018.gpkg\", layer = 'lim_unidade_federacao_a')\r\n",
        "\r\n",
        "INFOS_UFS2.columns"
      ],
      "execution_count": 34,
      "outputs": [
        {
          "output_type": "stream",
          "text": [
            "/usr/local/lib/python3.6/dist-packages/geopandas/geodataframe.py:422: RuntimeWarning:\n",
            "\n",
            "Sequential read of iterator was interrupted. Resetting iterator. This can negatively impact the performance.\n",
            "\n"
          ],
          "name": "stderr"
        },
        {
          "output_type": "execute_result",
          "data": {
            "text/plain": [
              "Index(['nome', 'nomeabrev', 'geometriaaproximada', 'sigla', 'geocodigo',\n",
              "       'id_produtor', 'id_elementoprodutor', 'cd_insumo_orgao',\n",
              "       'nr_insumo_mes', 'nr_insumo_ano', 'tx_insumo_documento', 'geometry'],\n",
              "      dtype='object')"
            ]
          },
          "metadata": {
            "tags": []
          },
          "execution_count": 34
        }
      ]
    },
    {
      "cell_type": "code",
      "metadata": {
        "colab": {
          "base_uri": "https://localhost:8080/",
          "height": 206
        },
        "id": "AS4srivA6LRM",
        "outputId": "d236da62-91a3-4d45-dd5e-f630cc5ff340"
      },
      "source": [
        "INFOS_UFS.rename({'sigla': 'UF'}, axis = 1, inplace = True)\r\n",
        "\r\n",
        "brasil = INFOS_UFS.merge(corona_cases, on = 'UF', how = 'left')\r\n",
        "\r\n",
        "brasil[['UF','confirmed_cases','geometry']].head()"
      ],
      "execution_count": 35,
      "outputs": [
        {
          "output_type": "execute_result",
          "data": {
            "text/html": [
              "<div>\n",
              "<style scoped>\n",
              "    .dataframe tbody tr th:only-of-type {\n",
              "        vertical-align: middle;\n",
              "    }\n",
              "\n",
              "    .dataframe tbody tr th {\n",
              "        vertical-align: top;\n",
              "    }\n",
              "\n",
              "    .dataframe thead th {\n",
              "        text-align: right;\n",
              "    }\n",
              "</style>\n",
              "<table border=\"1\" class=\"dataframe\">\n",
              "  <thead>\n",
              "    <tr style=\"text-align: right;\">\n",
              "      <th></th>\n",
              "      <th>UF</th>\n",
              "      <th>confirmed_cases</th>\n",
              "      <th>geometry</th>\n",
              "    </tr>\n",
              "  </thead>\n",
              "  <tbody>\n",
              "    <tr>\n",
              "      <th>0</th>\n",
              "      <td>GO</td>\n",
              "      <td>287858</td>\n",
              "      <td>MULTIPOLYGON (((-50.15876 -12.41581, -50.15743...</td>\n",
              "    </tr>\n",
              "    <tr>\n",
              "      <th>1</th>\n",
              "      <td>MS</td>\n",
              "      <td>107235</td>\n",
              "      <td>MULTIPOLYGON (((-56.09815 -17.17220, -56.09159...</td>\n",
              "    </tr>\n",
              "    <tr>\n",
              "      <th>2</th>\n",
              "      <td>PR</td>\n",
              "      <td>308811</td>\n",
              "      <td>MULTIPOLYGON (((-52.08090 -22.52893, -52.04903...</td>\n",
              "    </tr>\n",
              "    <tr>\n",
              "      <th>3</th>\n",
              "      <td>MG</td>\n",
              "      <td>444800</td>\n",
              "      <td>MULTIPOLYGON (((-44.21152 -14.22955, -44.20750...</td>\n",
              "    </tr>\n",
              "    <tr>\n",
              "      <th>4</th>\n",
              "      <td>SE</td>\n",
              "      <td>95493</td>\n",
              "      <td>MULTIPOLYGON (((-38.00366 -9.51544, -38.00052 ...</td>\n",
              "    </tr>\n",
              "  </tbody>\n",
              "</table>\n",
              "</div>"
            ],
            "text/plain": [
              "   UF  confirmed_cases                                           geometry\n",
              "0  GO           287858  MULTIPOLYGON (((-50.15876 -12.41581, -50.15743...\n",
              "1  MS           107235  MULTIPOLYGON (((-56.09815 -17.17220, -56.09159...\n",
              "2  PR           308811  MULTIPOLYGON (((-52.08090 -22.52893, -52.04903...\n",
              "3  MG           444800  MULTIPOLYGON (((-44.21152 -14.22955, -44.20750...\n",
              "4  SE            95493  MULTIPOLYGON (((-38.00366 -9.51544, -38.00052 ..."
            ]
          },
          "metadata": {
            "tags": []
          },
          "execution_count": 35
        }
      ]
    },
    {
      "cell_type": "code",
      "metadata": {
        "colab": {
          "base_uri": "https://localhost:8080/",
          "height": 620
        },
        "id": "vAEJQ_BoZ1Ko",
        "outputId": "6bd6a9e4-11a7-474b-a04f-64ececa415a7"
      },
      "source": [
        "%matplotlib inline\r\n",
        "\r\n",
        "brasil.plot(column  = 'confirmed_cases',\r\n",
        "\r\n",
        "            cmap = 'Reds',\r\n",
        "            figsize = (16,10),\r\n",
        "            legend = True,\r\n",
        "            edgecolor = 'black')"
      ],
      "execution_count": 36,
      "outputs": [
        {
          "output_type": "execute_result",
          "data": {
            "text/plain": [
              "<matplotlib.axes._subplots.AxesSubplot at 0x7f40995e6438>"
            ]
          },
          "metadata": {
            "tags": []
          },
          "execution_count": 36
        },
        {
          "output_type": "display_data",
          "data": {
            "image/png": "[encoded data removed]",
            "text/plain": [
              "<Figure size 1152x720 with 2 Axes>"
            ]
          },
          "metadata": {
            "tags": [],
            "needs_background": "light"
          }
        }
      ]
    }
  ]
}